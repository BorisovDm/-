{
 "cells": [
  {
   "cell_type": "markdown",
   "metadata": {},
   "source": [
    "# OOPython\n",
    "\n",
    "Задача 4. Функциональные пространства.\n",
    "\n",
    "Борисов Дмитрий, 373гр."
   ]
  },
  {
   "cell_type": "code",
   "execution_count": null,
   "metadata": {
    "collapsed": true
   },
   "outputs": [],
   "source": []
  },
  {
   "cell_type": "markdown",
   "metadata": {},
   "source": [
    "### Воспользуемся ранее получеными результатами.\n",
    "#### 1. Иерархия классов для формул численного дифференцирования:\n",
    "* Forward 1st Order Derivative - ForwardDerivative\n",
    "* Backward 1st Order Derivative - BackwardDerivative\n",
    "* Central 2nd Order Derivative - CentralDerivative\n",
    "* Symmetric 4th Order Derivative - FourthDerivative\n",
    "* Symmetric 6th Order Derivative - FifthDerivative"
   ]
  },
  {
   "cell_type": "code",
   "execution_count": 1,
   "metadata": {
    "collapsed": true
   },
   "outputs": [],
   "source": [
    "class AbstractDerivative:\n",
    "    def __init__(self, function, step = 1e-5):\n",
    "        self._function = function\n",
    "        self._step = float(step)\n",
    "        \n",
    "    def __call__(self, x):\n",
    "        raise NotImplementedError\n",
    "        \n",
    "class ForwardDerivative(AbstractDerivative):\n",
    "    __MethodName = 'Forward 1st Order Derivative'\n",
    "    def getName(self):\n",
    "        return self.__MethodName\n",
    "\n",
    "    def __call__(self, x):\n",
    "        return (self._function(x + self._step) - self._function(x)) / self._step\n",
    "\n",
    "class BackwardDerivative(AbstractDerivative):\n",
    "    __MethodName = 'Backward 1st Order Derivative'\n",
    "    def getName(self):\n",
    "        return self.__MethodName\n",
    " \n",
    "    def __call__(self, x):\n",
    "        return (self._function(x) - self._function(x - self._step)) / self._step\n",
    "\n",
    "class CentralDerivative(AbstractDerivative):\n",
    "    __MethodName = 'Central 2nd Order Derivative'\n",
    "    def getName(self):\n",
    "        return self.__MethodName\n",
    "\n",
    "    def __call__(self, x):\n",
    "        return (self._function(x + self._step) - self._function(x - self._step)) / (2 * self._step)\n",
    "    \n",
    "class FourthDerivative(AbstractDerivative):\n",
    "    __MethodName = 'Symmetric 4th Order Derivative'\n",
    "    def getName(self):\n",
    "        return self.__MethodName\n",
    "\n",
    "    def __call__(self, x):\n",
    "        return 4. / 3 * (self._function(x + self._step) - self._function(x - self._step)) / (2 * self._step) \\\n",
    "    - 1. / 3 * (self._function(x + 2 * self._step) - self._function(x - 2 * self._step)) / (4 * self._step)\n",
    "    \n",
    "class FifthDerivative(AbstractDerivative):\n",
    "    __MethodName = 'Symmetric 6th Order Derivative'\n",
    "    def getName(self):\n",
    "        return self.__MethodName\n",
    "\n",
    "    def __call__(self, x):\n",
    "        return 3. / 2 * (self._function(x + self._step) - self._function(x - self._step)) / (2 * self._step) \\\n",
    "    - 3. / 5 * (self._function(x + 2 * self._step) - self._function(x - 2 * self._step)) / (4 * self._step) \\\n",
    "    + 1. / 10 * (self._function(x + 3 * self._step) - self._function(x - 3 * self._step)) / (6 * self._step)"
   ]
  },
  {
   "cell_type": "markdown",
   "metadata": {},
   "source": [
    "#### 2. Иерархия классов для формул численного интегрирования:\n",
    "* метод левых прямоугольников - LeftRectangleIntegral\n",
    "* метод правых прямоугольников - RightRectangleIntegral\n",
    "* метод средних прямоугольников - MiddleRectangleIntegral\n",
    "* метод трапеций - TrapeziumIntegral\n",
    "* метод Симпсона 4-гопорядка точности - SimpsonIntegral"
   ]
  },
  {
   "cell_type": "code",
   "execution_count": 2,
   "metadata": {
    "collapsed": true
   },
   "outputs": [],
   "source": [
    "import numpy as np\n",
    "class AbstractIntegral:\n",
    "    _MethodName = 'Abstract Integral'\n",
    "    _shift = 0.\n",
    "        \n",
    "    def ChooseFunction(self, function):\n",
    "        self._function = function\n",
    "    \n",
    "    def SetLeftBorder(self, leftBorder):\n",
    "        self._leftBorder = leftBorder\n",
    "        \n",
    "    def SetGrid(self, step):\n",
    "        self._step = step\n",
    "        \n",
    "    def SetCoeffients(self, points):\n",
    "        raise NotImplementedError\n",
    "    \n",
    "    def getName(self):\n",
    "        return self._MethodName\n",
    "    \n",
    "    def __call__(self, x):\n",
    "        self._gridArray = np.arange(self._leftBorder, x + self._step, self._step)   \n",
    "        self._gridLength = len(self._gridArray)\n",
    "        self.SetCoeffients(self._gridLength)\n",
    "        \n",
    "        f, left, right, coeff = self._function, self._leftBorder, x, self._coeffients    \n",
    "        \n",
    "        value = 0.\n",
    "        for i in range(self._gridLength):\n",
    "            xCurrent = self._gridArray[i]\n",
    "            value += coeff[i] * f(xCurrent + self._shift * self._step)\n",
    "            \n",
    "        value *= self._step\n",
    "        return value     \n",
    "        \n",
    "class LeftRectangleIntegral(AbstractIntegral):\n",
    "    _MethodName = 'Left Rectangle Integral'\n",
    "    \n",
    "    def SetCoeffients(self, points):\n",
    "        self._coeffients = [1] * (points - 1) + [0]\n",
    "\n",
    "class RightRectangleIntegral(AbstractIntegral):\n",
    "    _MethodName = 'Right Rectangle Integral'\n",
    "    \n",
    "    def SetCoeffients(self, points):\n",
    "        self._coeffients = [0] + [1] * (points - 1)\n",
    "\n",
    "class MiddleRectangleIntegral(AbstractIntegral):\n",
    "    _MethodName = 'Middle Rectangle Integral'\n",
    "    _shift = 0.5\n",
    "    \n",
    "    def SetCoeffients(self, points):\n",
    "        self._coeffients = [1] * (points - 1) + [0.]\n",
    "\n",
    "class TrapeziumIntegral(AbstractIntegral):\n",
    "    _MethodName = 'Trapezium Integral'\n",
    "    \n",
    "    def SetCoeffients(self, points):\n",
    "        self._coeffients = [0.5] + [1] * (points - 2) + [0.5]\n",
    "    \n",
    "class SimpsonIntegral(AbstractIntegral):\n",
    "    _MethodName = 'Simpson Integral'\n",
    "    \n",
    "    def SetCoeffients(self, points):\n",
    "        self._coeffients = [1./3] + [4./3, 2./3] * ((points - 2) / 2)\n",
    "        if (points % 2 == 1):\n",
    "            self._coeffients += [4./3]\n",
    "        self._coeffients += [1./3]"
   ]
  },
  {
   "cell_type": "markdown",
   "metadata": {},
   "source": [
    "### Часть 1: классы, реализующие 4 различных нормированных-метрических пространства"
   ]
  },
  {
   "cell_type": "code",
   "execution_count": 3,
   "metadata": {
    "collapsed": false
   },
   "outputs": [],
   "source": [
    "import numpy as np\n",
    "import sympy as smp\n",
    "xSym = smp.Symbol('x')\n",
    "\n",
    "class AbstractSpace:\n",
    "    def __init__(self, a, b):\n",
    "        self._leftBorder = a\n",
    "        self._rightBorder = b\n",
    "    \n",
    "    def SetGrid(self, step = 1e-3):\n",
    "        self._step = step  \n",
    "        \n",
    "    def MaxAbsoluteValueOfFunction(self, function):\n",
    "        self._gridArray = np.arange(self._leftBorder, self._rightBorder + self._step, self._step)            \n",
    "        maxValue, value = 0., 0.\n",
    "        \n",
    "        for x in self._gridArray:\n",
    "            value = abs(function(x))\n",
    "            if value > maxValue:\n",
    "                maxValue = value\n",
    "        return maxValue\n",
    "  \n",
    "    def MaxAbsoluteValueOfFirstFunctionDerivative(self, function):\n",
    "        self._gridArray = np.arange(self._leftBorder, self._rightBorder + self._step, self._step)\n",
    "        maxValue, value = 0., 0.\n",
    "        \n",
    "        ListOfNumericDerivates = (CentralDerivative(function, self._step), \\\n",
    "                                  ForwardDerivative(function, self._step), \\\n",
    "                                  BackwardDerivative(function, self._step))\n",
    "\n",
    "        for x in self._gridArray:\n",
    "            if x > self._leftBorder and x < self._leftBorder:\n",
    "                value = abs(ListOfNumericDerivates[0](x))\n",
    "            elif x == self._leftBorder:\n",
    "                value = abs(ListOfNumericDerivates[1](x))\n",
    "            elif x == self._rightBorder:\n",
    "                value = abs(ListOfNumericDerivates[2](x))\n",
    "     \n",
    "            if value > maxValue:\n",
    "                maxValue = value\n",
    "        return maxValue\n",
    "   \n",
    "    def MaxAbsoluteValueOfSecondFunctionDerivative(self, function):\n",
    "        self._gridArray = np.arange(self._leftBorder, self._rightBorder + self._step, self._step)\n",
    "        maxValue, value = 0., 0.\n",
    "        \n",
    "        ListOfNumericDerivates = (ForwardDerivative(function, self._step), \\\n",
    "                                  BackwardDerivative(function, self._step))\n",
    "        \n",
    "        for x in self._gridArray:\n",
    "            if x > self._leftBorder and x < self._leftBorder:\n",
    "                #2nd Order Second Derivative, 3-point stencil(x-h, x, x+h)\n",
    "                value = (ListOfNumericDerivates[0](x) - ListOfNumericDerivates[0](x - self._step)) / self._step\n",
    "            \n",
    "            elif x == self._leftBorder:\n",
    "                #1st Order Second Derivative, 3-point stencil(x, x+h, x+2h)\n",
    "                value = (ListOfNumericDerivates[0](x + self._step) - ListOfNumericDerivates[0](x)) / self._step\n",
    "            \n",
    "            elif x == self._rightBorder:\n",
    "                #1st Order Second Derivative, 3-point stencil(x-2h, x-h, x)\n",
    "                value = (ListOfNumericDerivates[1](x) - ListOfNumericDerivates[1](x - self._step)) / self._step\n",
    "     \n",
    "            value = abs(value)\n",
    "            if value > maxValue:\n",
    "                maxValue = value\n",
    "        return maxValue\n",
    "        \n",
    "    def CalculateNorm(self, function):\n",
    "        raise NotImplementedError\n",
    "\n",
    "    def CalculateMetric(self, function1, function2):\n",
    "        return self.CalculateNorm(function1 - function2)\n",
    "\n",
    "class SpaceC(AbstractSpace):\n",
    "    def CalculateNorm(self, function):\n",
    "        function = smp.lambdify(xSym, function)\n",
    "        return self.MaxAbsoluteValueOfFunction(function)\n",
    "\n",
    "class SpaceC1(AbstractSpace):\n",
    "    def CalculateNorm(self, function):\n",
    "        function = smp.lambdify(xSym, function)\n",
    "        return (self.MaxAbsoluteValueOfFunction(function) + \\\n",
    "                self.MaxAbsoluteValueOfFirstFunctionDerivative(function))\n",
    "\n",
    "class SpaceC2(AbstractSpace):\n",
    "    def CalculateNorm(self, function):\n",
    "        function = smp.lambdify(xSym, function)\n",
    "        return (self.MaxAbsoluteValueOfFunction(function) + \\\n",
    "                self.MaxAbsoluteValueOfFirstFunctionDerivative(function) + \\\n",
    "                self.MaxAbsoluteValueOfSecondFunctionDerivative(function))\n",
    "\n",
    "class SpaceL2(AbstractSpace):\n",
    "    def CalculateNorm(self, function):\n",
    "        function = smp.lambdify(xSym, function**2)\n",
    "        integral = TrapeziumIntegral()\n",
    "        integral.ChooseFunction(function)\n",
    "        integral.SetGrid(self._step)\n",
    "        integral.SetLeftBorder(self._leftBorder)\n",
    "        value = (integral(self._rightBorder))**(0.5)\n",
    "        return value"
   ]
  },
  {
   "cell_type": "markdown",
   "metadata": {},
   "source": [
    "### Часть 2:\n",
    "* класс, реализующий 1 предгильбертово пространство со стандартным правилом вычисления скалярного произведения\n",
    "* класс, реализующий 1 нормированное пространство с нормой, порождаемой скалярным произведением предгильбертова пространства E\n",
    "* класс, реализующий 1 метрическое пространство с метрикой, порождаемой нормой нормированного пространства"
   ]
  },
  {
   "cell_type": "code",
   "execution_count": 4,
   "metadata": {
    "collapsed": true
   },
   "outputs": [],
   "source": [
    "class SpacePreHilbert(AbstractSpace):\n",
    "    def ScalarMultiplication(self, function1, function2):\n",
    "        function = smp.lambdify(xSym, function1 * function2)\n",
    "        integral = TrapeziumIntegral()\n",
    "        integral.ChooseFunction(function)\n",
    "        integral.SetGrid(self._step)\n",
    "        integral.SetLeftBorder(self._leftBorder)\n",
    "        value = integral(self._rightBorder)\n",
    "        return value\n",
    "    \n",
    "    def CalculateNorm(self, function):\n",
    "        value = (self.ScalarMultiplication(function, function))**(0.5)\n",
    "        return value\n",
    "    \n",
    "    #CalculateMetric(self, function1, function2) уже реализовано в AbstractSpace"
   ]
  },
  {
   "cell_type": "markdown",
   "metadata": {},
   "source": [
    "### Тестирование на функциях"
   ]
  },
  {
   "cell_type": "code",
   "execution_count": 5,
   "metadata": {
    "collapsed": true
   },
   "outputs": [],
   "source": [
    "listOfSymbolicFunctions = [5./(2 + 3 * xSym**2), 2./ (5 + smp.cos(xSym)), (3 + 4 * xSym**2)**(1./3),\\\n",
    "                           2. * smp.exp(-xSym**2) / smp.pi**(0.5)]\n",
    "\n",
    "NameOfFunctions = ['5/(2 + 3 * x**2)', '2/(5 + cos(x))', '(3 + 4 * x**2)**(1/3)',\\\n",
    "                   '2 * exp(-x**2) / pi**(1/2)']"
   ]
  },
  {
   "cell_type": "markdown",
   "metadata": {},
   "source": [
    "* В 4-х нормированных пространствах C0[0; 2], С1[0; 2], C2[0; 2], L2[0; 2] вычислить нормы всех функций"
   ]
  },
  {
   "cell_type": "code",
   "execution_count": 6,
   "metadata": {
    "collapsed": true
   },
   "outputs": [],
   "source": [
    "leftBorder, rightBorder, h = 0., 2., 1e-3\n",
    "\n",
    "listOfSpaces = [SpaceC(leftBorder, rightBorder), SpaceC1(leftBorder, rightBorder), \\\n",
    "                SpaceC2(leftBorder, rightBorder), SpaceL2(leftBorder, rightBorder)]\n",
    "\n",
    "for space in listOfSpaces:\n",
    "    space.SetGrid(h)\n",
    "\n",
    "NameOfSpaces = ['C0[0; 2]', 'C1[0; 2]', 'C2[0; 2]', 'L2[0; 2]']"
   ]
  },
  {
   "cell_type": "code",
   "execution_count": 7,
   "metadata": {
    "collapsed": false
   },
   "outputs": [
    {
     "name": "stdout",
     "output_type": "stream",
     "text": [
      "Нормы функций в соответствующих нормированных пространствах:\n"
     ]
    },
    {
     "data": {
      "text/html": [
       "<div>\n",
       "<table border=\"1\" class=\"dataframe\">\n",
       "  <thead>\n",
       "    <tr style=\"text-align: right;\">\n",
       "      <th></th>\n",
       "      <th>C0[0; 2]</th>\n",
       "      <th>C1[0; 2]</th>\n",
       "      <th>C2[0; 2]</th>\n",
       "      <th>L2[0; 2]</th>\n",
       "    </tr>\n",
       "  </thead>\n",
       "  <tbody>\n",
       "    <tr>\n",
       "      <th>5/(2 + 3 * x**2)</th>\n",
       "      <td>2.500000</td>\n",
       "      <td>2.806308</td>\n",
       "      <td>10.306230</td>\n",
       "      <td>1.977840</td>\n",
       "    </tr>\n",
       "    <tr>\n",
       "      <th>2/(5 + cos(x))</th>\n",
       "      <td>0.436314</td>\n",
       "      <td>0.522868</td>\n",
       "      <td>0.578424</td>\n",
       "      <td>0.524045</td>\n",
       "    </tr>\n",
       "    <tr>\n",
       "      <th>(3 + 4 * x**2)**(1/3)</th>\n",
       "      <td>2.668402</td>\n",
       "      <td>3.417450</td>\n",
       "      <td>4.699445</td>\n",
       "      <td>2.815513</td>\n",
       "    </tr>\n",
       "    <tr>\n",
       "      <th>2 * exp(-x**2) / pi**(1/2)</th>\n",
       "      <td>1.128379</td>\n",
       "      <td>1.211192</td>\n",
       "      <td>3.467942</td>\n",
       "      <td>0.893216</td>\n",
       "    </tr>\n",
       "  </tbody>\n",
       "</table>\n",
       "</div>"
      ],
      "text/plain": [
       "                            C0[0; 2]  C1[0; 2]   C2[0; 2]  L2[0; 2]\n",
       "5/(2 + 3 * x**2)            2.500000  2.806308  10.306230  1.977840\n",
       "2/(5 + cos(x))              0.436314  0.522868   0.578424  0.524045\n",
       "(3 + 4 * x**2)**(1/3)       2.668402  3.417450   4.699445  2.815513\n",
       "2 * exp(-x**2) / pi**(1/2)  1.128379  1.211192   3.467942  0.893216"
      ]
     },
     "metadata": {},
     "output_type": "display_data"
    }
   ],
   "source": [
    "import pandas as pd\n",
    "from IPython.display import display\n",
    "\n",
    "data = []\n",
    "for function in listOfSymbolicFunctions:\n",
    "    dataIn = []\n",
    "    for space in listOfSpaces:\n",
    "        dataIn.append(space.CalculateNorm(function))  \n",
    "    data.append(dataIn)                \n",
    "        \n",
    "df = pd.DataFrame(data = data, index = NameOfFunctions, columns = NameOfSpaces)\n",
    "print('Нормы функций в соответствующих нормированных пространствах:')\n",
    "display(df)"
   ]
  },
  {
   "cell_type": "markdown",
   "metadata": {},
   "source": [
    "* В 4-х реализованных соответствующих метрических пространствах вычислить попарные расстояния между всеми функциями"
   ]
  },
  {
   "cell_type": "code",
   "execution_count": 8,
   "metadata": {
    "collapsed": false
   },
   "outputs": [
    {
     "name": "stdout",
     "output_type": "stream",
     "text": [
      "Distance between functions in space C0[0; 2]\n"
     ]
    },
    {
     "data": {
      "text/html": [
       "<div>\n",
       "<table border=\"1\" class=\"dataframe\">\n",
       "  <thead>\n",
       "    <tr style=\"text-align: right;\">\n",
       "      <th></th>\n",
       "      <th>5/(2 + 3 * x**2)</th>\n",
       "      <th>2/(5 + cos(x))</th>\n",
       "      <th>(3 + 4 * x**2)**(1/3)</th>\n",
       "      <th>2 * exp(-x**2) / pi**(1/2)</th>\n",
       "    </tr>\n",
       "  </thead>\n",
       "  <tbody>\n",
       "    <tr>\n",
       "      <th>5/(2 + 3 * x**2)</th>\n",
       "      <td>0.000000</td>\n",
       "      <td>2.166667</td>\n",
       "      <td>2.311259</td>\n",
       "      <td>1.371621</td>\n",
       "    </tr>\n",
       "    <tr>\n",
       "      <th>2/(5 + cos(x))</th>\n",
       "      <td>2.166667</td>\n",
       "      <td>0.000000</td>\n",
       "      <td>2.232087</td>\n",
       "      <td>0.795046</td>\n",
       "    </tr>\n",
       "    <tr>\n",
       "      <th>(3 + 4 * x**2)**(1/3)</th>\n",
       "      <td>2.311259</td>\n",
       "      <td>2.232087</td>\n",
       "      <td>0.000000</td>\n",
       "      <td>2.647735</td>\n",
       "    </tr>\n",
       "    <tr>\n",
       "      <th>2 * exp(-x**2) / pi**(1/2)</th>\n",
       "      <td>1.371621</td>\n",
       "      <td>0.795046</td>\n",
       "      <td>2.647735</td>\n",
       "      <td>0.000000</td>\n",
       "    </tr>\n",
       "  </tbody>\n",
       "</table>\n",
       "</div>"
      ],
      "text/plain": [
       "                            5/(2 + 3 * x**2)  2/(5 + cos(x))  \\\n",
       "5/(2 + 3 * x**2)                    0.000000        2.166667   \n",
       "2/(5 + cos(x))                      2.166667        0.000000   \n",
       "(3 + 4 * x**2)**(1/3)               2.311259        2.232087   \n",
       "2 * exp(-x**2) / pi**(1/2)          1.371621        0.795046   \n",
       "\n",
       "                            (3 + 4 * x**2)**(1/3)  2 * exp(-x**2) / pi**(1/2)  \n",
       "5/(2 + 3 * x**2)                         2.311259                    1.371621  \n",
       "2/(5 + cos(x))                           2.232087                    0.795046  \n",
       "(3 + 4 * x**2)**(1/3)                    0.000000                    2.647735  \n",
       "2 * exp(-x**2) / pi**(1/2)               2.647735                    0.000000  "
      ]
     },
     "metadata": {},
     "output_type": "display_data"
    },
    {
     "name": "stdout",
     "output_type": "stream",
     "text": [
      "Distance between functions in space C1[0; 2]\n"
     ]
    },
    {
     "data": {
      "text/html": [
       "<div>\n",
       "<table border=\"1\" class=\"dataframe\">\n",
       "  <thead>\n",
       "    <tr style=\"text-align: right;\">\n",
       "      <th></th>\n",
       "      <th>5/(2 + 3 * x**2)</th>\n",
       "      <th>2/(5 + cos(x))</th>\n",
       "      <th>(3 + 4 * x**2)**(1/3)</th>\n",
       "      <th>2 * exp(-x**2) / pi**(1/2)</th>\n",
       "    </tr>\n",
       "  </thead>\n",
       "  <tbody>\n",
       "    <tr>\n",
       "      <th>5/(2 + 3 * x**2)</th>\n",
       "      <td>0.000000</td>\n",
       "      <td>2.559529</td>\n",
       "      <td>3.366615</td>\n",
       "      <td>1.595116</td>\n",
       "    </tr>\n",
       "    <tr>\n",
       "      <th>2/(5 + cos(x))</th>\n",
       "      <td>2.559529</td>\n",
       "      <td>0.000000</td>\n",
       "      <td>2.894581</td>\n",
       "      <td>0.964413</td>\n",
       "    </tr>\n",
       "    <tr>\n",
       "      <th>(3 + 4 * x**2)**(1/3)</th>\n",
       "      <td>3.366615</td>\n",
       "      <td>2.894581</td>\n",
       "      <td>0.000000</td>\n",
       "      <td>3.479595</td>\n",
       "    </tr>\n",
       "    <tr>\n",
       "      <th>2 * exp(-x**2) / pi**(1/2)</th>\n",
       "      <td>1.595116</td>\n",
       "      <td>0.964413</td>\n",
       "      <td>3.479595</td>\n",
       "      <td>0.000000</td>\n",
       "    </tr>\n",
       "  </tbody>\n",
       "</table>\n",
       "</div>"
      ],
      "text/plain": [
       "                            5/(2 + 3 * x**2)  2/(5 + cos(x))  \\\n",
       "5/(2 + 3 * x**2)                    0.000000        2.559529   \n",
       "2/(5 + cos(x))                      2.559529        0.000000   \n",
       "(3 + 4 * x**2)**(1/3)               3.366615        2.894581   \n",
       "2 * exp(-x**2) / pi**(1/2)          1.595116        0.964413   \n",
       "\n",
       "                            (3 + 4 * x**2)**(1/3)  2 * exp(-x**2) / pi**(1/2)  \n",
       "5/(2 + 3 * x**2)                         3.366615                    1.595116  \n",
       "2/(5 + cos(x))                           2.894581                    0.964413  \n",
       "(3 + 4 * x**2)**(1/3)                    0.000000                    3.479595  \n",
       "2 * exp(-x**2) / pi**(1/2)               3.479595                    0.000000  "
      ]
     },
     "metadata": {},
     "output_type": "display_data"
    },
    {
     "name": "stdout",
     "output_type": "stream",
     "text": [
      "Distance between functions in space C2[0; 2]\n"
     ]
    },
    {
     "data": {
      "text/html": [
       "<div>\n",
       "<table border=\"1\" class=\"dataframe\">\n",
       "  <thead>\n",
       "    <tr style=\"text-align: right;\">\n",
       "      <th></th>\n",
       "      <th>5/(2 + 3 * x**2)</th>\n",
       "      <th>2/(5 + cos(x))</th>\n",
       "      <th>(3 + 4 * x**2)**(1/3)</th>\n",
       "      <th>2 * exp(-x**2) / pi**(1/2)</th>\n",
       "    </tr>\n",
       "  </thead>\n",
       "  <tbody>\n",
       "    <tr>\n",
       "      <th>5/(2 + 3 * x**2)</th>\n",
       "      <td>0.000000</td>\n",
       "      <td>10.115006</td>\n",
       "      <td>12.148532</td>\n",
       "      <td>6.838287</td>\n",
       "    </tr>\n",
       "    <tr>\n",
       "      <th>2/(5 + cos(x))</th>\n",
       "      <td>10.115006</td>\n",
       "      <td>0.000000</td>\n",
       "      <td>4.121021</td>\n",
       "      <td>3.276719</td>\n",
       "    </tr>\n",
       "    <tr>\n",
       "      <th>(3 + 4 * x**2)**(1/3)</th>\n",
       "      <td>12.148532</td>\n",
       "      <td>4.121021</td>\n",
       "      <td>0.000000</td>\n",
       "      <td>7.018341</td>\n",
       "    </tr>\n",
       "    <tr>\n",
       "      <th>2 * exp(-x**2) / pi**(1/2)</th>\n",
       "      <td>6.838287</td>\n",
       "      <td>3.276719</td>\n",
       "      <td>7.018341</td>\n",
       "      <td>0.000000</td>\n",
       "    </tr>\n",
       "  </tbody>\n",
       "</table>\n",
       "</div>"
      ],
      "text/plain": [
       "                            5/(2 + 3 * x**2)  2/(5 + cos(x))  \\\n",
       "5/(2 + 3 * x**2)                    0.000000       10.115006   \n",
       "2/(5 + cos(x))                     10.115006        0.000000   \n",
       "(3 + 4 * x**2)**(1/3)              12.148532        4.121021   \n",
       "2 * exp(-x**2) / pi**(1/2)          6.838287        3.276719   \n",
       "\n",
       "                            (3 + 4 * x**2)**(1/3)  2 * exp(-x**2) / pi**(1/2)  \n",
       "5/(2 + 3 * x**2)                        12.148532                    6.838287  \n",
       "2/(5 + cos(x))                           4.121021                    3.276719  \n",
       "(3 + 4 * x**2)**(1/3)                    0.000000                    7.018341  \n",
       "2 * exp(-x**2) / pi**(1/2)               7.018341                    0.000000  "
      ]
     },
     "metadata": {},
     "output_type": "display_data"
    },
    {
     "name": "stdout",
     "output_type": "stream",
     "text": [
      "Distance between functions in space L2[0; 2]\n"
     ]
    },
    {
     "data": {
      "text/html": [
       "<div>\n",
       "<table border=\"1\" class=\"dataframe\">\n",
       "  <thead>\n",
       "    <tr style=\"text-align: right;\">\n",
       "      <th></th>\n",
       "      <th>5/(2 + 3 * x**2)</th>\n",
       "      <th>2/(5 + cos(x))</th>\n",
       "      <th>(3 + 4 * x**2)**(1/3)</th>\n",
       "      <th>2 * exp(-x**2) / pi**(1/2)</th>\n",
       "    </tr>\n",
       "  </thead>\n",
       "  <tbody>\n",
       "    <tr>\n",
       "      <th>5/(2 + 3 * x**2)</th>\n",
       "      <td>0.000000</td>\n",
       "      <td>1.575669</td>\n",
       "      <td>1.851987</td>\n",
       "      <td>1.101938</td>\n",
       "    </tr>\n",
       "    <tr>\n",
       "      <th>2/(5 + cos(x))</th>\n",
       "      <td>1.575669</td>\n",
       "      <td>0.000000</td>\n",
       "      <td>2.295393</td>\n",
       "      <td>0.618643</td>\n",
       "    </tr>\n",
       "    <tr>\n",
       "      <th>(3 + 4 * x**2)**(1/3)</th>\n",
       "      <td>1.851987</td>\n",
       "      <td>2.295393</td>\n",
       "      <td>0.000000</td>\n",
       "      <td>2.326812</td>\n",
       "    </tr>\n",
       "    <tr>\n",
       "      <th>2 * exp(-x**2) / pi**(1/2)</th>\n",
       "      <td>1.101938</td>\n",
       "      <td>0.618643</td>\n",
       "      <td>2.326812</td>\n",
       "      <td>0.000000</td>\n",
       "    </tr>\n",
       "  </tbody>\n",
       "</table>\n",
       "</div>"
      ],
      "text/plain": [
       "                            5/(2 + 3 * x**2)  2/(5 + cos(x))  \\\n",
       "5/(2 + 3 * x**2)                    0.000000        1.575669   \n",
       "2/(5 + cos(x))                      1.575669        0.000000   \n",
       "(3 + 4 * x**2)**(1/3)               1.851987        2.295393   \n",
       "2 * exp(-x**2) / pi**(1/2)          1.101938        0.618643   \n",
       "\n",
       "                            (3 + 4 * x**2)**(1/3)  2 * exp(-x**2) / pi**(1/2)  \n",
       "5/(2 + 3 * x**2)                         1.851987                    1.101938  \n",
       "2/(5 + cos(x))                           2.295393                    0.618643  \n",
       "(3 + 4 * x**2)**(1/3)                    0.000000                    2.326812  \n",
       "2 * exp(-x**2) / pi**(1/2)               2.326812                    0.000000  "
      ]
     },
     "metadata": {},
     "output_type": "display_data"
    }
   ],
   "source": [
    "for space, name in zip(listOfSpaces, NameOfSpaces):\n",
    "    data = []   \n",
    "    for function1 in listOfSymbolicFunctions:\n",
    "        dataIn = []\n",
    "        for function2 in listOfSymbolicFunctions:\n",
    "            dataIn.append(space.CalculateMetric(function1, function2))         \n",
    "        data.append(dataIn)\n",
    "     \n",
    "    print('Distance between functions in space ' + name)\n",
    "    df = pd.DataFrame(data = data, index = NameOfFunctions, columns = NameOfFunctions)\n",
    "    display(df)"
   ]
  },
  {
   "cell_type": "markdown",
   "metadata": {},
   "source": [
    "* В реализованном предгильбертовом пространстве вычислить попарные скалярные произведения между всеми функциями"
   ]
  },
  {
   "cell_type": "code",
   "execution_count": 9,
   "metadata": {
    "collapsed": false
   },
   "outputs": [
    {
     "name": "stdout",
     "output_type": "stream",
     "text": [
      "Scalar Multiplication between functions in Pre-Hilbert space\n"
     ]
    },
    {
     "data": {
      "text/html": [
       "<div>\n",
       "<table border=\"1\" class=\"dataframe\">\n",
       "  <thead>\n",
       "    <tr style=\"text-align: right;\">\n",
       "      <th></th>\n",
       "      <th>5/(2 + 3 * x**2)</th>\n",
       "      <th>2/(5 + cos(x))</th>\n",
       "      <th>(3 + 4 * x**2)**(1/3)</th>\n",
       "      <th>2 * exp(-x**2) / pi**(1/2)</th>\n",
       "    </tr>\n",
       "  </thead>\n",
       "  <tbody>\n",
       "    <tr>\n",
       "      <th>5/(2 + 3 * x**2)</th>\n",
       "      <td>3.911852</td>\n",
       "      <td>0.851871</td>\n",
       "      <td>4.204555</td>\n",
       "      <td>1.747709</td>\n",
       "    </tr>\n",
       "    <tr>\n",
       "      <th>2/(5 + cos(x))</th>\n",
       "      <td>0.851871</td>\n",
       "      <td>0.274623</td>\n",
       "      <td>1.466455</td>\n",
       "      <td>0.344869</td>\n",
       "    </tr>\n",
       "    <tr>\n",
       "      <th>(3 + 4 * x**2)**(1/3)</th>\n",
       "      <td>4.204555</td>\n",
       "      <td>1.466455</td>\n",
       "      <td>7.927115</td>\n",
       "      <td>1.655447</td>\n",
       "    </tr>\n",
       "    <tr>\n",
       "      <th>2 * exp(-x**2) / pi**(1/2)</th>\n",
       "      <td>1.747709</td>\n",
       "      <td>0.344869</td>\n",
       "      <td>1.655447</td>\n",
       "      <td>0.797834</td>\n",
       "    </tr>\n",
       "  </tbody>\n",
       "</table>\n",
       "</div>"
      ],
      "text/plain": [
       "                            5/(2 + 3 * x**2)  2/(5 + cos(x))  \\\n",
       "5/(2 + 3 * x**2)                    3.911852        0.851871   \n",
       "2/(5 + cos(x))                      0.851871        0.274623   \n",
       "(3 + 4 * x**2)**(1/3)               4.204555        1.466455   \n",
       "2 * exp(-x**2) / pi**(1/2)          1.747709        0.344869   \n",
       "\n",
       "                            (3 + 4 * x**2)**(1/3)  2 * exp(-x**2) / pi**(1/2)  \n",
       "5/(2 + 3 * x**2)                         4.204555                    1.747709  \n",
       "2/(5 + cos(x))                           1.466455                    0.344869  \n",
       "(3 + 4 * x**2)**(1/3)                    7.927115                    1.655447  \n",
       "2 * exp(-x**2) / pi**(1/2)               1.655447                    0.797834  "
      ]
     },
     "metadata": {},
     "output_type": "display_data"
    }
   ],
   "source": [
    "space = SpacePreHilbert(leftBorder, rightBorder)\n",
    "space.SetGrid(h)\n",
    "data = []\n",
    "    \n",
    "for function1 in listOfSymbolicFunctions:\n",
    "    dataIn = []\n",
    "    for function2 in listOfSymbolicFunctions:\n",
    "        dataIn.append(space.ScalarMultiplication(function1, function2))         \n",
    "    data.append(dataIn)\n",
    "     \n",
    "print('Scalar Multiplication between functions in Pre-Hilbert space')\n",
    "df = pd.DataFrame(data = data, index = NameOfFunctions, columns = NameOfFunctions)\n",
    "display(df)"
   ]
  },
  {
   "cell_type": "markdown",
   "metadata": {},
   "source": [
    "* В реализованном предгильбертовом пространстве попарно вычислить углы между всеми функциями"
   ]
  },
  {
   "cell_type": "code",
   "execution_count": 10,
   "metadata": {
    "collapsed": false
   },
   "outputs": [
    {
     "name": "stdout",
     "output_type": "stream",
     "text": [
      "Cosines of angles between functions in Pre-Hilbert space\n"
     ]
    },
    {
     "data": {
      "text/html": [
       "<div>\n",
       "<table border=\"1\" class=\"dataframe\">\n",
       "  <thead>\n",
       "    <tr style=\"text-align: right;\">\n",
       "      <th></th>\n",
       "      <th>5/(2 + 3 * x**2)</th>\n",
       "      <th>2/(5 + cos(x))</th>\n",
       "      <th>(3 + 4 * x**2)**(1/3)</th>\n",
       "      <th>2 * exp(-x**2) / pi**(1/2)</th>\n",
       "    </tr>\n",
       "  </thead>\n",
       "  <tbody>\n",
       "    <tr>\n",
       "      <th>5/(2 + 3 * x**2)</th>\n",
       "      <td>1.000000</td>\n",
       "      <td>0.821891</td>\n",
       "      <td>0.755042</td>\n",
       "      <td>0.989286</td>\n",
       "    </tr>\n",
       "    <tr>\n",
       "      <th>2/(5 + cos(x))</th>\n",
       "      <td>0.821891</td>\n",
       "      <td>1.000000</td>\n",
       "      <td>0.993900</td>\n",
       "      <td>0.736765</td>\n",
       "    </tr>\n",
       "    <tr>\n",
       "      <th>(3 + 4 * x**2)**(1/3)</th>\n",
       "      <td>0.755042</td>\n",
       "      <td>0.993900</td>\n",
       "      <td>1.000000</td>\n",
       "      <td>0.658266</td>\n",
       "    </tr>\n",
       "    <tr>\n",
       "      <th>2 * exp(-x**2) / pi**(1/2)</th>\n",
       "      <td>0.989286</td>\n",
       "      <td>0.736765</td>\n",
       "      <td>0.658266</td>\n",
       "      <td>1.000000</td>\n",
       "    </tr>\n",
       "  </tbody>\n",
       "</table>\n",
       "</div>"
      ],
      "text/plain": [
       "                            5/(2 + 3 * x**2)  2/(5 + cos(x))  \\\n",
       "5/(2 + 3 * x**2)                    1.000000        0.821891   \n",
       "2/(5 + cos(x))                      0.821891        1.000000   \n",
       "(3 + 4 * x**2)**(1/3)               0.755042        0.993900   \n",
       "2 * exp(-x**2) / pi**(1/2)          0.989286        0.736765   \n",
       "\n",
       "                            (3 + 4 * x**2)**(1/3)  2 * exp(-x**2) / pi**(1/2)  \n",
       "5/(2 + 3 * x**2)                         0.755042                    0.989286  \n",
       "2/(5 + cos(x))                           0.993900                    0.736765  \n",
       "(3 + 4 * x**2)**(1/3)                    1.000000                    0.658266  \n",
       "2 * exp(-x**2) / pi**(1/2)               0.658266                    1.000000  "
      ]
     },
     "metadata": {},
     "output_type": "display_data"
    }
   ],
   "source": [
    "data = []\n",
    "    \n",
    "for function1 in listOfSymbolicFunctions:\n",
    "    dataIn = []\n",
    "    for function2 in listOfSymbolicFunctions:\n",
    "        value = space.ScalarMultiplication(function1, function2) / \\\n",
    "                (space.CalculateNorm(function1) * space.CalculateNorm(function2))\n",
    "        dataIn.append(value)         \n",
    "    data.append(dataIn)\n",
    "     \n",
    "print('Cosines of angles between functions in Pre-Hilbert space')\n",
    "df = pd.DataFrame(data = data, index = NameOfFunctions, columns = NameOfFunctions)\n",
    "display(df)"
   ]
  }
 ],
 "metadata": {
  "kernelspec": {
   "display_name": "Python 2",
   "language": "python",
   "name": "python2"
  },
  "language_info": {
   "codemirror_mode": {
    "name": "ipython",
    "version": 2
   },
   "file_extension": ".py",
   "mimetype": "text/x-python",
   "name": "python",
   "nbconvert_exporter": "python",
   "pygments_lexer": "ipython2",
   "version": "2.7.13"
  }
 },
 "nbformat": 4,
 "nbformat_minor": 0
}
