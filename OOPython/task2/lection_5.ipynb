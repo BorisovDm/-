{
 "cells": [
  {
   "cell_type": "markdown",
   "metadata": {
    "nbpresent": {
     "id": "ca07bdae-6030-40f6-9c99-c07f9a94df11"
    },
    "slideshow": {
     "slide_type": "slide"
    }
   },
   "source": [
    "# Классы: продолжение\n",
    "## Представление функции с параметрами в виде класса\n",
    "Пример с вертикальным движением тела в поле силы тяжести: $y(t) = v_0 t - \\frac{g t^2}{2}$. В качестве параметров возьмем $v_0$ и $g$. Каким образом лучше реализовать данные функции? \n",
    "\n",
    "__Очевидное решение__: функция нескольких аргументов."
   ]
  },
  {
   "cell_type": "code",
   "execution_count": 1,
   "metadata": {
    "collapsed": true,
    "nbpresent": {
     "id": "b76edc00-42df-4e73-81b0-047b9fd37eee"
    },
    "slideshow": {
     "slide_type": "slide"
    }
   },
   "outputs": [],
   "source": [
    "def VerticalCoordinate(time, initialSpeed, gravityAcceleration):\n",
    "    return initialSpeed*time - 0.5*gravityAcceleration*time**2"
   ]
  },
  {
   "cell_type": "markdown",
   "metadata": {
    "nbpresent": {
     "id": "0b14001e-07bd-4734-8566-38b02bb2b1d7"
    }
   },
   "source": [
    "Однако, при проведении численного дифференцирования данной функции возникнет проблема, так как функции взятия производной в качестве аргумента требуется функция 1-й переменной:"
   ]
  },
  {
   "cell_type": "code",
   "execution_count": 2,
   "metadata": {
    "collapsed": false,
    "nbpresent": {
     "id": "0f93662a-5438-4155-b4ce-0d499452bfe9"
    }
   },
   "outputs": [
    {
     "name": "stdout",
     "output_type": "stream",
     "text": [
      "Derivative #1 = -646899.37\n",
      "\n",
      "Derivative #2 = -43032.02\n",
      "\n"
     ]
    }
   ],
   "source": [
    "def TakeDerivative(function, x, step=1e-5):\n",
    "    return (function(x + step) - function(step))/float(step)\n",
    "\n",
    "# тестирование на паре функций\n",
    "import math as m\n",
    "listOfPoints = [0.1, (m.pi)**2]\n",
    "listOfFunctions = [lambda t: t**3 + 3*t**2 - 65*t, m.sin]\n",
    "\n",
    "i = 0\n",
    "for function, point in zip(listOfFunctions, listOfPoints):\n",
    "    i += 1\n",
    "    print 'Derivative #%d = %.2f\\n' % (i, TakeDerivative(function, point))"
   ]
  },
  {
   "cell_type": "markdown",
   "metadata": {
    "nbpresent": {
     "id": "df67a2db-f658-4568-a9b6-079167695b84"
    }
   },
   "source": [
    "К сожалению, функция TakeDerivative() не сможет работать с нашей VerticalCoordinate.\n",
    "__Неудачное решение__: использование глобальных переменных."
   ]
  },
  {
   "cell_type": "code",
   "execution_count": 3,
   "metadata": {
    "collapsed": true,
    "nbpresent": {
     "id": "058b9055-3db7-4259-8421-848e4eff8cd4"
    }
   },
   "outputs": [],
   "source": [
    "# .... (тут объявление этих переменных)\n",
    "\n",
    "def VerticalCoordinate(time):\n",
    "    gravityAccelertion = 9.81\n",
    "    return initialSpeed*time - 0.5*gravityAcceleration*time**2"
   ]
  },
  {
   "cell_type": "markdown",
   "metadata": {
    "nbpresent": {
     "id": "7ea23b93-18cc-4467-8f09-e9b46fff3c70"
    }
   },
   "source": [
    "Как известно, использование глобальных переменных требуется сводить к минимуму с целью избегания ошибок из-за путанницы в именах в различных областях видимости.\n",
    "\n",
    "__Еще способ__: Для каждого значения initialSpeed можно написать отдельную функцию (еще неудачней). Написание же n-го количества версий первой для функций с количеством аргументов от 1 до n  представляется не очень оптимальным решением данной задачи. Мы же стремимся к написанию ПО, работающему в самых общих случаях.\n",
    "\n",
    "Как решить проблему? Использовать __классы__. Переменные класса видны всем его методам, поэтому в контексте класса их можно рассматривать в качестве \"глобальных\":"
   ]
  },
  {
   "cell_type": "code",
   "execution_count": 4,
   "metadata": {
    "collapsed": false,
    "nbpresent": {
     "id": "f1619c6b-5372-4fc1-9a05-402a05cc8656"
    }
   },
   "outputs": [
    {
     "name": "stdout",
     "output_type": "stream",
     "text": [
      "-120.125\n"
     ]
    }
   ],
   "source": [
    "class VerticalCoordinate:\n",
    "    def __init__(self, initialSpeed):\n",
    "        self._initialSpeed = initialSpeed\n",
    "        self._gravityAcceleration = 9.81\n",
    "        \n",
    "    def CalculateValue(self, time):\n",
    "        return self._initialSpeed*time - 0.5*self._gravityAcceleration*time**2\n",
    "    \n",
    "\n",
    "\n",
    "# версия с отсутствием инициализации переменной g;\n",
    "class VerticalCoordinate2:\n",
    "    '''\n",
    "    При отсутствии опеределения конструктора \n",
    "    интерпретатор автоматически создает пустой\n",
    "    '''\n",
    "    def CalculateValue(self, time, initialSpeed):\n",
    "        return initialSpeed*time - 0.5*self._gravityAcceleration*time**2\n",
    "\n",
    "# использование\n",
    "ball = VerticalCoordinate(0.5)\n",
    "print ball.CalculateValue(5)"
   ]
  },
  {
   "cell_type": "markdown",
   "metadata": {
    "nbpresent": {
     "id": "81fdfaca-d75e-4d3a-9197-e29ae7533f8a"
    }
   },
   "source": [
    "Для большего удобства вместо конструкции __object.CalculateValue(x)__ хочется использовать более привычную операцию вызова функции __object(x)__. В языке С++ для этого существует __перегрузка операторов__, позволяющая переопределять многие стандартные операторы \"()\", \"+\", \"-\", \" * \", \"/\" и.т.д. В языке Python эту роль на себя берут т.н. __магические методы__.\n",
    "Используем один из них в классе для функции:"
   ]
  },
  {
   "cell_type": "code",
   "execution_count": 5,
   "metadata": {
    "collapsed": false,
    "nbpresent": {
     "id": "73d03824-19bf-4860-973b-84b448f580a0"
    }
   },
   "outputs": [
    {
     "ename": "SyntaxError",
     "evalue": "invalid syntax (<ipython-input-5-a6eaff45b214>, line 3)",
     "output_type": "error",
     "traceback": [
      "\u001b[1;36m  File \u001b[1;32m\"<ipython-input-5-a6eaff45b214>\"\u001b[1;36m, line \u001b[1;32m3\u001b[0m\n\u001b[1;33m    def __init__(self, p0, p1, p2, ..., pn):\u001b[0m\n\u001b[1;37m                                   ^\u001b[0m\n\u001b[1;31mSyntaxError\u001b[0m\u001b[1;31m:\u001b[0m invalid syntax\n"
     ]
    }
   ],
   "source": [
    "# нерабочий код для функции с n-параметрами\n",
    "class MyFunction:\n",
    "    def __init__(self, p0, p1, p2, ..., pn):\n",
    "        self._p0 = p0\n",
    "        self._p1 = p1\n",
    "        ...\n",
    "        self._pn = pn\n",
    "\n",
    "    def __call__(self, x): # заменяет функцию CalculateValue(x) \n",
    "                           # object.__self(x)__ --- object(x)\n",
    "        return ..."
   ]
  },
  {
   "cell_type": "markdown",
   "metadata": {},
   "source": [
    "Объекты, в которых методом __--call--__(x) перегружена операция \"()\"  называются __функциональными объектами__ или сокращенно __фукторами__."
   ]
  },
  {
   "cell_type": "markdown",
   "metadata": {
    "collapsed": true,
    "nbpresent": {
     "id": "2c860a49-45d7-4d5d-85bd-890752baad14"
    }
   },
   "source": [
    "## Магические методы\n",
    "Их имеется довольно большое количество:\n",
    "\n",
    "* __--init--__(self)\n",
    "Конструктор\n",
    "\n",
    "* __--del--__(self) \n",
    "Деструктор\n",
    "\n",
    "* __--pos--__(self)\n",
    "Определяет поведение для унарного плюса (+some_object)\n",
    "\n",
    "\n",
    "* __--neg--__(self)\n",
    "Определяет поведение для отрицания (-some_object)\n",
    "\n",
    "\n",
    "* __--abs--__(self)\n",
    "Определяет поведение для встроенной функции abs().\n",
    "\n",
    "\n",
    "* __--invert--__(self)\n",
    "Определяет поведение для инвертирования оператором ~.\n",
    "\n",
    "\n",
    "* __--round--__(self, n)\n",
    "Определяет поведение для встроенной функции round(). n это число знаков после запятой, до которого округлить.\n",
    "\n",
    "\n",
    "* __--floor--__(self)\n",
    "Определяет поведение для math.floor(), то есть, округления до ближайшего меньшего целого.\n",
    "\n",
    "\n",
    "* __--ceil--__(self)\n",
    "Определяет поведение для math.ceil(), то есть, округления до ближайшего большего целого.\n",
    "\n",
    "........................."
   ]
  },
  {
   "cell_type": "markdown",
   "metadata": {},
   "source": [
    "## Автоматическое дифференцирование функций.\n",
    "Рассмотрим различные способы реализации операции дифференцирования. __1-й__:"
   ]
  },
  {
   "cell_type": "code",
   "execution_count": 6,
   "metadata": {
    "collapsed": false
   },
   "outputs": [
    {
     "name": "stdout",
     "output_type": "stream",
     "text": [
      "0.245868708064\n"
     ]
    }
   ],
   "source": [
    "import math as m\n",
    "def Differentiate(function, x, step=1e-5):\n",
    "    return (function(x + step) - function(x - step))/ (2.*float(step))\n",
    " \n",
    "def TestFunction(x):\n",
    "    return x**3 * m.sin(x)\n",
    "\n",
    "print Differentiate(TestFunction, 0.4)"
   ]
  },
  {
   "cell_type": "markdown",
   "metadata": {},
   "source": [
    "__Способ №2__: функция, возвращающая функцию (т.н. __замыкание__). __Замыкание__ (англ. closure) — функция, в теле которой присутствуют ссылки на переменные, объявленные вне тела этой функции в окружающем коде и не являющиеся её параметрами."
   ]
  },
  {
   "cell_type": "code",
   "execution_count": 7,
   "metadata": {
    "collapsed": false
   },
   "outputs": [
    {
     "name": "stdout",
     "output_type": "stream",
     "text": [
      "6.97182921503\n"
     ]
    }
   ],
   "source": [
    "def Derivative(function, step=1e-5):\n",
    "    def DfDx(x):\n",
    "        #print x\n",
    "        return (function(x + step) - function(x - step))/(2.*float(step))\n",
    "        \n",
    "    return DfDx # это замыкание помнит значение внешней переменной step и function\n",
    "    \n",
    "derivative1 = Derivative(TestFunction) # теперь derivative1 ведет себя как обыкновенная функция\n",
    "print derivative1(1.5)"
   ]
  },
  {
   "cell_type": "markdown",
   "metadata": {},
   "source": [
    "__Способ №3__: написание отдельного класса, способного вызывать функцию и хранить её состояние в полях."
   ]
  },
  {
   "cell_type": "code",
   "execution_count": 8,
   "metadata": {
    "collapsed": false,
    "nbpresent": {
     "id": "4ec1cfc9-514b-4a55-ab79-15fbc1da6c1e"
    }
   },
   "outputs": [
    {
     "name": "stdout",
     "output_type": "stream",
     "text": [
      "0.328978857889\n"
     ]
    }
   ],
   "source": [
    "# класс, реализующий формулу численного дифференцирования\n",
    "class SimpleDerivative:\n",
    "    def __init__(self, function, step):\n",
    "        self._function = function\n",
    "        self._step = float(step)\n",
    "\n",
    "    def __call__(self, x):\n",
    "        return (self._function(x + self._step) - self._function(x - self._step))/(2*self._step)\n",
    "    \n",
    "# тестирование\n",
    "derivative1 = SimpleDerivative(m.cos, 1e-5)\n",
    "print derivative1(9.76) # теперь derivative1 ведет себя как обыкновенная функция"
   ]
  },
  {
   "cell_type": "markdown",
   "metadata": {},
   "source": [
    "Остановимся на последнем способе. Перейдем к использованию класса: протестируем его на различных функциях.\n",
    "\n",
    "Возвращаясь к обычным функциям: напоминаю, что всё в Python является объектом, в том числе и функция. Т.е. ее тоже можно рассматривать как функциональный объект, что позволяет взаимодействовать с ней как с обыкновенной переменной (помещать в списки, к примеру). В языке С для реализации массива из функций пришлось бы использовать указатели на функции, что порождает множество сложностей, если эти функции имеют различное число аргументов и различные возвращаемые значения [ пример объявления указателя: __int (*ptrToFunction)(float, char, char);__ ].\n",
    "\n",
    "Для оценки погрешности численного дифференцирования потребуются аналитические значения производных, которые получим с помощью библиотеки SymPy:"
   ]
  },
  {
   "cell_type": "code",
   "execution_count": 9,
   "metadata": {
    "collapsed": false,
    "nbpresent": {
     "id": "0c34f67b-bbda-4056-a4c5-f2c18df783b6"
    }
   },
   "outputs": [
    {
     "name": "stdout",
     "output_type": "stream",
     "text": [
      "[sin(x), cos(x), exp(x), tan(x)] \n",
      "\n",
      "[<function <lambda> at 0x7f33d805f578>, <function <lambda> at 0x7f33c7398b90>, <function <lambda> at 0x7f33c739c230>, <function <lambda> at 0x7f33c739c398>]\n"
     ]
    }
   ],
   "source": [
    "import math as m\n",
    "import numpy as np\n",
    "\n",
    "import sympy as smp\n",
    "xSym = smp.Symbol('x') # импортируем символ переменной для использования символьными функциями\n",
    "\n",
    "\n",
    "# символьные функции требуют явного указания аргумента (в отличие от \"численных\" из библиотеки math)\n",
    "listOfSymbolicFunctions = [smp.sin(xSym), smp.cos(xSym), smp.exp(xSym), smp.tan(xSym)] \n",
    "#listOfFunctions = [m.sin, m.cos, m.exp, m.tan]\n",
    "\n",
    "# генерируем \"численные\" функции из символьных: этим занимается функция lambdify\n",
    "listOfFunctions = [smp.lambdify(xSym, f) for f in listOfSymbolicFunctions]\n",
    "# используем написанный класс\n",
    "h0 = 1e-5\n",
    "listOfNumericalDerivatives = [SimpleDerivative(f, h0) for f in listOfFunctions]\n",
    "\n",
    "\n",
    "print listOfSymbolicFunctions, '\\n\\n', listOfFunctions # смотрим, что за объекты"
   ]
  },
  {
   "cell_type": "markdown",
   "metadata": {},
   "source": [
    "Построение графиков производных"
   ]
  },
  {
   "cell_type": "code",
   "execution_count": 18,
   "metadata": {
    "collapsed": false,
    "nbpresent": {
     "id": "5d39e844-5f12-4107-b3d8-4d8d16603ac1"
    }
   },
   "outputs": [
    {
     "data": {
      "image/png": "[encoded data removed]",
      "text/plain": [
       "<matplotlib.figure.Figure at 0x7f33c7396e90>"
      ]
     },
     "metadata": {},
     "output_type": "display_data"
    },
    {
     "data": {
      "image/png": "[encoded data removed]",
      "text/plain": [
       "<matplotlib.figure.Figure at 0x7f33b47256d0>"
      ]
     },
     "metadata": {},
     "output_type": "display_data"
    },
    {
     "data": {
      "image/png": "[encoded data removed]",
      "text/plain": [
       "<matplotlib.figure.Figure at 0x7f33a570b890>"
      ]
     },
     "metadata": {},
     "output_type": "display_data"
    },
    {
     "ename": "TypeError",
     "evalue": "'list' object is not callable",
     "output_type": "error",
     "traceback": [
      "\u001b[1;31m---------------------------------------------------------------------------\u001b[0m",
      "\u001b[1;31mTypeError\u001b[0m                                 Traceback (most recent call last)",
      "\u001b[1;32m<ipython-input-18-c588761308b2>\u001b[0m in \u001b[0;36m<module>\u001b[1;34m()\u001b[0m\n\u001b[0;32m     46\u001b[0m     \u001b[1;32mfor\u001b[0m \u001b[0mh\u001b[0m \u001b[1;32min\u001b[0m \u001b[0mlistOfSteps\u001b[0m\u001b[1;33m:\u001b[0m\u001b[1;33m\u001b[0m\u001b[0m\n\u001b[0;32m     47\u001b[0m         \u001b[0mnumericalDerivative\u001b[0m \u001b[1;33m=\u001b[0m \u001b[0mSimpleDerivative\u001b[0m\u001b[1;33m(\u001b[0m\u001b[0mfunction\u001b[0m\u001b[1;33m,\u001b[0m \u001b[0mh\u001b[0m\u001b[1;33m)\u001b[0m \u001b[1;31m# функтор - пользуемся как функцией\u001b[0m\u001b[1;33m\u001b[0m\u001b[0m\n\u001b[1;32m---> 48\u001b[1;33m         \u001b[0merror\u001b[0m \u001b[1;33m=\u001b[0m \u001b[0mm\u001b[0m\u001b[1;33m.\u001b[0m\u001b[0mfabs\u001b[0m\u001b[1;33m(\u001b[0m\u001b[0mnumericalDerivative\u001b[0m\u001b[1;33m(\u001b[0m\u001b[0mx0\u001b[0m\u001b[1;33m)\u001b[0m \u001b[1;33m-\u001b[0m \u001b[0manaliticalDerivative\u001b[0m\u001b[1;33m(\u001b[0m\u001b[0mx0\u001b[0m\u001b[1;33m)\u001b[0m\u001b[1;33m)\u001b[0m\u001b[1;33m\u001b[0m\u001b[0m\n\u001b[0m\u001b[0;32m     49\u001b[0m         \u001b[0mlistOfErrors\u001b[0m\u001b[1;33m.\u001b[0m\u001b[0mappend\u001b[0m\u001b[1;33m(\u001b[0m\u001b[0merror\u001b[0m\u001b[1;33m)\u001b[0m\u001b[1;33m\u001b[0m\u001b[0m\n\u001b[0;32m     50\u001b[0m \u001b[1;33m\u001b[0m\u001b[0m\n",
      "\u001b[1;32m<ipython-input-8-1672b215996e>\u001b[0m in \u001b[0;36m__call__\u001b[1;34m(self, x)\u001b[0m\n\u001b[0;32m      6\u001b[0m \u001b[1;33m\u001b[0m\u001b[0m\n\u001b[0;32m      7\u001b[0m     \u001b[1;32mdef\u001b[0m \u001b[0m__call__\u001b[0m\u001b[1;33m(\u001b[0m\u001b[0mself\u001b[0m\u001b[1;33m,\u001b[0m \u001b[0mx\u001b[0m\u001b[1;33m)\u001b[0m\u001b[1;33m:\u001b[0m\u001b[1;33m\u001b[0m\u001b[0m\n\u001b[1;32m----> 8\u001b[1;33m         \u001b[1;32mreturn\u001b[0m \u001b[1;33m(\u001b[0m\u001b[0mself\u001b[0m\u001b[1;33m.\u001b[0m\u001b[0m_function\u001b[0m\u001b[1;33m(\u001b[0m\u001b[0mx\u001b[0m \u001b[1;33m+\u001b[0m \u001b[0mself\u001b[0m\u001b[1;33m.\u001b[0m\u001b[0m_step\u001b[0m\u001b[1;33m)\u001b[0m \u001b[1;33m-\u001b[0m \u001b[0mself\u001b[0m\u001b[1;33m.\u001b[0m\u001b[0m_function\u001b[0m\u001b[1;33m(\u001b[0m\u001b[0mx\u001b[0m \u001b[1;33m-\u001b[0m \u001b[0mself\u001b[0m\u001b[1;33m.\u001b[0m\u001b[0m_step\u001b[0m\u001b[1;33m)\u001b[0m\u001b[1;33m)\u001b[0m\u001b[1;33m/\u001b[0m\u001b[1;33m(\u001b[0m\u001b[1;36m2\u001b[0m\u001b[1;33m*\u001b[0m\u001b[0mself\u001b[0m\u001b[1;33m.\u001b[0m\u001b[0m_step\u001b[0m\u001b[1;33m)\u001b[0m\u001b[1;33m\u001b[0m\u001b[0m\n\u001b[0m\u001b[0;32m      9\u001b[0m \u001b[1;33m\u001b[0m\u001b[0m\n\u001b[0;32m     10\u001b[0m \u001b[1;31m# тестирование\u001b[0m\u001b[1;33m\u001b[0m\u001b[1;33m\u001b[0m\u001b[0m\n",
      "\u001b[1;31mTypeError\u001b[0m: 'list' object is not callable"
     ]
    },
    {
     "data": {
      "image/png": "[encoded data removed]",
      "text/plain": [
       "<matplotlib.figure.Figure at 0x7f33a5108210>"
      ]
     },
     "metadata": {},
     "output_type": "display_data"
    }
   ],
   "source": [
    "import matplotlib.pyplot as plt\n",
    "%matplotlib inline\n",
    "xLeft, xRight = 0., 10.\n",
    "numPoints = 100\n",
    "xData = np.linspace(xLeft, xRight, numPoints)\n",
    "yDataList = []\n",
    "\n",
    "\n",
    "figureSizeConst = (13, 6.7) # в дюймах\n",
    "plt.figure(figsize=figureSizeConst) # строим графики производных в общем окне\n",
    "plt.title('Derivatives', fontsize=15)\n",
    "\n",
    "for function, derivative in zip(listOfFunctions, listOfNumericalDerivatives):   \n",
    "    yData = []\n",
    "    for x in list(xData):\n",
    "        yData.append(derivative(x))\n",
    "        \n",
    "    yDataList.append(np.array(yData)) # приводим список yData к типу массива NumPy\n",
    "    \n",
    "    plt.figure() # если хотим видеть каждый график в отдельном окне\n",
    "    \n",
    "    #labell = function.__name__ + ' derivative'\n",
    "    plt.plot(xData, yData, '-o', linewidth = 3, markersize = 0., label = labell)\n",
    "    plt.grid('on')\n",
    "    plt.ylim([-2., 4.])\n",
    "    plt.legend(loc = 'best')\n",
    "\n",
    "plt.show()\n",
    "\n",
    "\n",
    "# символьное дифференцирование; используем генераторы списков\n",
    "listOfSymbolicDerivatives = [smp.diff(f, xSym) for f in listOfSymbolicFunctions]\n",
    "listOfAnaliticalDerivatives = [smp.lambdify(xSym, f) for f in listOfSymbolicDerivatives]\n",
    "\n",
    "# построение зависимости погрешностей формул численного дифференцирования от величины шага \n",
    "x0 = 5.\n",
    "listOfSteps = [2**(-n) for n in range(2, 15)]\n",
    "\n",
    "\n",
    "plt.figure(figsize=figureSizeConst)\n",
    "plt.title('Convergence', fontsize=15)\n",
    "for function, analiticalDerivative in zip(listOfFunctions,\\\n",
    "                                          listOfAnaliticalDerivatives):\n",
    "    \n",
    "    listOfErrors = []\n",
    "    \n",
    "    for h in listOfSteps:\n",
    "        numericalDerivative = SimpleDerivative(function, h) # функтор - пользуемся как функцией\n",
    "        error = m.fabs(numericalDerivative(x0) - analiticalDerivative(x0))\n",
    "        listOfErrors.append(error)\n",
    "    \n",
    "    \n",
    "    plt.loglog(np.array(listOfSteps), np.array(listOfErrors), 'v-', markersize=15, linewidth = 4)\n",
    "    plt.legend()\n",
    "    plt.grid('on')\n",
    "    plt.xlabel('h')\n",
    "    plt.ylabel('Global error')\n",
    "    \n",
    "plt.show()"
   ]
  },
  {
   "cell_type": "markdown",
   "metadata": {},
   "source": [
    "## Более полный класс для представления функций\n",
    "Расширим класс Function() добавлением в него методов вычисления производных произвольного порядка. Т.к. численное дифференцирование не зависит от конкретного вида функции, то эти методы можно реализовать, а метод вычисления значения сделать чисто виртуальным, затем переопределив его в классах-наследниках (уже конкретных функциях). При создании объекта абстрактного класса его функции будут заниматься дифференцированием непонятно чего, корректно работать же будут работать только в классах наследниках, где функция __--call--(x)__ реализована."
   ]
  },
  {
   "cell_type": "code",
   "execution_count": 11,
   "metadata": {
    "collapsed": false
   },
   "outputs": [],
   "source": [
    "class AbstractFunctionWithDerivatives:\n",
    "    \n",
    "    def __init__(self, step=1e-5):\n",
    "        self._step = float(step) # больше ничего не требуется\n",
    "        \n",
    "    def __call__(self, x):\n",
    "        raise NotImplementedError # вычисление значения пока неизвестной функции (чистая виртуальная)\n",
    "    \n",
    "    # self --- ссылка на сам создаваемый объект. self(x) --- self.__call__(x).\n",
    "    def Calculate1stDerivative(self, x):\n",
    "        return (self(x + self._step) - self(x - self._step))/float(2*self._step) \n",
    "    \n",
    "    def Calculate2ndDerivative(self, x):\n",
    "        return (self(x + self._step) - 2*self(x) + self(x - self._step)) / (self._step)**2\n",
    "    \n",
    "    \n",
    "    \n",
    "class Parabola(AbstractFunctionWithDerivatives):\n",
    "    def __init__(self, a, b, c, d, step=1e-5):\n",
    "        AbstractFunctionWithDerivatives.__init__(self, step)\n",
    "        self._a = a\n",
    "        self._b = b\n",
    "        self._c = c\n",
    "        self._d = d\n",
    "    \n",
    "    def __call__(self, x): # переопределяем\n",
    "        return self._a*x**3 + self._b*x**2 + self._c*x + self._d\n",
    "    \n",
    "    \n",
    "class SpecialFunction(AbstractFunctionWithDerivatives):\n",
    "    def __init__(self, a, b, step=1e-5):\n",
    "        AbstractFunctionWithDerivatives.__init__(self, step)\n",
    "        self._a = a\n",
    "        self._b = b\n",
    "        \n",
    "    def __call__(self, x):\n",
    "        return m.cos(self._a + self._b*m.exp(x**2))"
   ]
  },
  {
   "cell_type": "markdown",
   "metadata": {},
   "source": [
    "Тестируем:"
   ]
  },
  {
   "cell_type": "code",
   "execution_count": 12,
   "metadata": {
    "collapsed": false
   },
   "outputs": [
    {
     "name": "stdout",
     "output_type": "stream",
     "text": [
      "1st derivative = -7.8\n",
      "2nd derivative = 88.94\n",
      "1st derivative = -20.8\n",
      "2nd derivative = 38.36\n",
      "1st derivative = -39.7\n",
      "2nd derivative = -355.39\n",
      "1st derivative = -64.6\n",
      "2nd derivative = -39.92\n"
     ]
    }
   ],
   "source": [
    "listOfFunctions = [ [Parabola(i, 2*i, -3*i**2, 10*i), SpecialFunction(2*i, 5*i)]\\\n",
    "                   for i in range(2, 6)] # список из списков\n",
    "\n",
    "listOfFunctions = map(list, zip(*listOfFunctions)) # транспонируем чтобы можно было пройтись в цикле\n",
    "\n",
    "for function1, function2 in zip(listOfFunctions[0], listOfFunctions[1]):\n",
    "    print '1st derivative = %.1f' % function1.Calculate1stDerivative(0.4)\n",
    "    print '2nd derivative = %.2f' % function2.Calculate2ndDerivative(0.4)"
   ]
  }
 ],
 "metadata": {
  "anaconda-cloud": {},
  "kernelspec": {
   "display_name": "Python [Root]",
   "language": "python",
   "name": "Python [Root]"
  },
  "language_info": {
   "codemirror_mode": {
    "name": "ipython",
    "version": 2
   },
   "file_extension": ".py",
   "mimetype": "text/x-python",
   "name": "python",
   "nbconvert_exporter": "python",
   "pygments_lexer": "ipython2",
   "version": "2.7.12"
  },
  "nbpresent": {
   "slides": {
    "06369ab4-ae3b-4734-8ad8-50774d711db3": {
     "id": "06369ab4-ae3b-4734-8ad8-50774d711db3",
     "prev": "230d1ab4-93bd-4ce5-890c-0054d0800139",
     "regions": {
      "33853d23-cfdb-4044-b671-fc2c32236d7c": {
       "attrs": {
        "height": 0.8,
        "width": 0.8,
        "x": 0.1,
        "y": 0.1
       },
       "content": {
        "cell": "81fdfaca-d75e-4d3a-9197-e29ae7533f8a",
        "part": "whole"
       },
       "id": "33853d23-cfdb-4044-b671-fc2c32236d7c"
      }
     }
    },
    "13a386a8-958e-4076-8817-75160c27ecd9": {
     "id": "13a386a8-958e-4076-8817-75160c27ecd9",
     "prev": "c75d12fd-47bc-47d5-b58d-99de0666c5af",
     "regions": {
      "8240c574-0e36-4c51-af34-eb35f46dafda": {
       "attrs": {
        "height": 0.8,
        "width": 0.8,
        "x": 0.1,
        "y": 0.1
       },
       "content": {
        "cell": "2c860a49-45d7-4d5d-85bd-890752baad14",
        "part": "whole"
       },
       "id": "8240c574-0e36-4c51-af34-eb35f46dafda"
      }
     }
    },
    "1d748aec-bf65-4c4c-9ad3-7441c5c313b7": {
     "id": "1d748aec-bf65-4c4c-9ad3-7441c5c313b7",
     "prev": "13a386a8-958e-4076-8817-75160c27ecd9",
     "regions": {
      "5be0b9a1-8d75-4c25-bcdb-8a6901e3d612": {
       "attrs": {
        "height": 0.8,
        "width": 0.8,
        "x": 0.1,
        "y": 0.1
       },
       "content": {
        "cell": "6224f5c3-f435-41d7-a4b4-008221b404b9",
        "part": "whole"
       },
       "id": "5be0b9a1-8d75-4c25-bcdb-8a6901e3d612"
      }
     }
    },
    "230d1ab4-93bd-4ce5-890c-0054d0800139": {
     "id": "230d1ab4-93bd-4ce5-890c-0054d0800139",
     "prev": "b795d86d-d42e-4416-9ab7-e1f6811c2f97",
     "regions": {
      "3d8dc94c-f270-41fb-b2fc-430d5847b0e9": {
       "attrs": {
        "height": 0.8,
        "width": 0.8,
        "x": 0.1,
        "y": 0.1
       },
       "content": {
        "cell": "f1619c6b-5372-4fc1-9a05-402a05cc8656",
        "part": "whole"
       },
       "id": "3d8dc94c-f270-41fb-b2fc-430d5847b0e9"
      }
     }
    },
    "3d27171e-4b95-4b6c-8a72-76a35d24cbf9": {
     "id": "3d27171e-4b95-4b6c-8a72-76a35d24cbf9",
     "prev": "56dc7e8e-cef2-43b6-9063-4c9ec70708e6",
     "regions": {
      "bdcc5047-5b9d-4b74-a3ae-44e15cdc44a9": {
       "attrs": {
        "height": 0.8,
        "width": 0.8,
        "x": 0.1,
        "y": 0.1
       },
       "content": {
        "cell": "5d39e844-5f12-4107-b3d8-4d8d16603ac1",
        "part": "whole"
       },
       "id": "bdcc5047-5b9d-4b74-a3ae-44e15cdc44a9"
      }
     }
    },
    "420d9c2a-4140-4c8d-b87b-49c5a3856a0b": {
     "id": "420d9c2a-4140-4c8d-b87b-49c5a3856a0b",
     "prev": null,
     "regions": {
      "e12c7db3-0fe3-4c44-bb69-22091fe2314b": {
       "attrs": {
        "height": 0.8,
        "width": 0.8,
        "x": 0.1,
        "y": 0.1
       },
       "content": {
        "cell": "ca07bdae-6030-40f6-9c99-c07f9a94df11",
        "part": "whole"
       },
       "id": "e12c7db3-0fe3-4c44-bb69-22091fe2314b"
      }
     }
    },
    "56dc7e8e-cef2-43b6-9063-4c9ec70708e6": {
     "id": "56dc7e8e-cef2-43b6-9063-4c9ec70708e6",
     "prev": "fdee024c-ecff-4acd-853e-eecf7ba8b66d",
     "regions": {
      "9c1ed28a-f97f-49c4-b826-5a9cfbcc6c83": {
       "attrs": {
        "height": 0.8,
        "width": 0.8,
        "x": 0.1,
        "y": 0.1
       },
       "content": {
        "cell": "0c34f67b-bbda-4056-a4c5-f2c18df783b6",
        "part": "whole"
       },
       "id": "9c1ed28a-f97f-49c4-b826-5a9cfbcc6c83"
      }
     }
    },
    "59806d1d-441a-4ed0-b569-a092bd4c1706": {
     "id": "59806d1d-441a-4ed0-b569-a092bd4c1706",
     "prev": "420d9c2a-4140-4c8d-b87b-49c5a3856a0b",
     "regions": {
      "0fb0cbba-96e6-4919-be07-b4e5db45a67d": {
       "attrs": {
        "height": 0.8,
        "width": 0.8,
        "x": 0.1,
        "y": 0.1
       },
       "content": {
        "cell": "b76edc00-42df-4e73-81b0-047b9fd37eee",
        "part": "whole"
       },
       "id": "0fb0cbba-96e6-4919-be07-b4e5db45a67d"
      }
     }
    },
    "90fb7fe0-5d81-47f3-a962-33b715513197": {
     "id": "90fb7fe0-5d81-47f3-a962-33b715513197",
     "prev": "e0c70a8d-b120-45d0-b5c2-b6a0e45ad1df",
     "regions": {
      "dec8fa98-1015-43ad-a9a9-2e7c861245e8": {
       "attrs": {
        "height": 0.8,
        "width": 0.8,
        "x": 0.1,
        "y": 0.1
       },
       "content": {
        "cell": "df67a2db-f658-4568-a9b6-079167695b84",
        "part": "whole"
       },
       "id": "dec8fa98-1015-43ad-a9a9-2e7c861245e8"
      }
     }
    },
    "b795d86d-d42e-4416-9ab7-e1f6811c2f97": {
     "id": "b795d86d-d42e-4416-9ab7-e1f6811c2f97",
     "prev": "c358c3a3-6e42-4656-a954-30010f3f041a",
     "regions": {
      "d5a34d0f-6ada-483e-9e33-a2f27bb5a9c2": {
       "attrs": {
        "height": 0.8,
        "width": 0.8,
        "x": 0.1,
        "y": 0.1
       },
       "content": {
        "cell": "7ea23b93-18cc-4467-8f09-e9b46fff3c70",
        "part": "whole"
       },
       "id": "d5a34d0f-6ada-483e-9e33-a2f27bb5a9c2"
      }
     }
    },
    "c358c3a3-6e42-4656-a954-30010f3f041a": {
     "id": "c358c3a3-6e42-4656-a954-30010f3f041a",
     "prev": "90fb7fe0-5d81-47f3-a962-33b715513197",
     "regions": {
      "284fe2b1-1ca4-4da8-97d8-fd147016ae97": {
       "attrs": {
        "height": 0.8,
        "width": 0.8,
        "x": 0.1,
        "y": 0.1
       },
       "content": {
        "cell": "058b9055-3db7-4259-8421-848e4eff8cd4",
        "part": "whole"
       },
       "id": "284fe2b1-1ca4-4da8-97d8-fd147016ae97"
      }
     }
    },
    "c75d12fd-47bc-47d5-b58d-99de0666c5af": {
     "id": "c75d12fd-47bc-47d5-b58d-99de0666c5af",
     "prev": "06369ab4-ae3b-4734-8ad8-50774d711db3",
     "regions": {
      "e8525ff9-5925-4ca1-8f2a-8bc8ab987fec": {
       "attrs": {
        "height": 0.8,
        "width": 0.8,
        "x": 0.1,
        "y": 0.1
       },
       "content": {
        "cell": "73d03824-19bf-4860-973b-84b448f580a0",
        "part": "whole"
       },
       "id": "e8525ff9-5925-4ca1-8f2a-8bc8ab987fec"
      }
     }
    },
    "e0c70a8d-b120-45d0-b5c2-b6a0e45ad1df": {
     "id": "e0c70a8d-b120-45d0-b5c2-b6a0e45ad1df",
     "prev": "ed36cdae-b45f-4e5f-9004-36f4423697ba",
     "regions": {
      "cd4fe0d5-b97d-4045-ad98-24cef8b241b2": {
       "attrs": {
        "height": 0.8,
        "width": 0.8,
        "x": 0.1,
        "y": 0.1
       },
       "content": {
        "cell": "0f93662a-5438-4155-b4ce-0d499452bfe9",
        "part": "whole"
       },
       "id": "cd4fe0d5-b97d-4045-ad98-24cef8b241b2"
      }
     }
    },
    "ed36cdae-b45f-4e5f-9004-36f4423697ba": {
     "id": "ed36cdae-b45f-4e5f-9004-36f4423697ba",
     "prev": "59806d1d-441a-4ed0-b569-a092bd4c1706",
     "regions": {
      "3b270b75-3f3b-49f6-bcef-5717953d44ac": {
       "attrs": {
        "height": 0.8,
        "width": 0.8,
        "x": 0.1,
        "y": 0.1
       },
       "content": {
        "cell": "0b14001e-07bd-4734-8566-38b02bb2b1d7",
        "part": "whole"
       },
       "id": "3b270b75-3f3b-49f6-bcef-5717953d44ac"
      }
     }
    },
    "fdee024c-ecff-4acd-853e-eecf7ba8b66d": {
     "id": "fdee024c-ecff-4acd-853e-eecf7ba8b66d",
     "prev": "1d748aec-bf65-4c4c-9ad3-7441c5c313b7",
     "regions": {
      "7df91a61-cc2f-438c-ab31-a6d8ca146da1": {
       "attrs": {
        "height": 0.8,
        "width": 0.8,
        "x": 0.1,
        "y": 0.1
       },
       "content": {
        "cell": "4ec1cfc9-514b-4a55-ab79-15fbc1da6c1e",
        "part": "whole"
       },
       "id": "7df91a61-cc2f-438c-ab31-a6d8ca146da1"
      }
     }
    }
   },
   "themes": {}
  }
 },
 "nbformat": 4,
 "nbformat_minor": 1
}
