{
 "cells": [
  {
   "cell_type": "markdown",
   "metadata": {},
   "source": [
    "__Автор__: Карпаев Алексей, ассистент кафедры информатики и вычислительной математики."
   ]
  },
  {
   "cell_type": "markdown",
   "metadata": {},
   "source": [
    "# Обзор средств ускорения Python"
   ]
  },
  {
   "cell_type": "code",
   "execution_count": null,
   "metadata": {
    "collapsed": true
   },
   "outputs": [],
   "source": [
    "import numpy as np\n",
    "import math as m\n",
    "import matplotlib.pyplot as plt\n",
    "import numba as nb\n",
    "import time\n",
    "\n",
    "figsizeConst = (11.6, 7.)"
   ]
  },
  {
   "cell_type": "markdown",
   "metadata": {},
   "source": [
    "## Некоторые способы\n",
    "* cython\n",
    "* scipy.weave\n",
    "* SWIG\n",
    "* ...\n",
    "* __векторизация из Numpy__\n",
    "* __Numba__"
   ]
  },
  {
   "cell_type": "markdown",
   "metadata": {},
   "source": [
    "## Cython: 0.5 * C + 0.5 * Python\n",
    "Пример кода (c), численное интегрирование:"
   ]
  },
  {
   "cell_type": "code",
   "execution_count": null,
   "metadata": {
    "collapsed": false
   },
   "outputs": [],
   "source": [
    "# cython не установлен\n",
    "'''\n",
    "cdef extern from \"math.h\":\n",
    "    double sin(double x)\n",
    "\n",
    "cdef double f(double x):\n",
    "    return sin(x**2)\n",
    "\n",
    "cpdef double integrate_f(double a, double b, int N):\n",
    "    cdef double dx, s\n",
    "    cdef int i\n",
    "\n",
    "    dx = (b-a)/N\n",
    "    s = 0\n",
    "    for i in range(N):\n",
    "        s += f(a+i*dx)\n",
    "    return s * dx\n",
    "'''"
   ]
  },
  {
   "cell_type": "markdown",
   "metadata": {},
   "source": [
    "## Векторизация"
   ]
  },
  {
   "cell_type": "markdown",
   "metadata": {},
   "source": [
    "Еще раз про \"быстрые массивы\" из __Numpy__:\n",
    "\n",
    "* элементы массива должны быть одного типа\n",
    "* неизменяемость длины массива\n",
    "* поддержка векторизованных операций\n",
    "\n",
    "### Принцип векторизованных операций: \n",
    "* задействование быстрых циклов на C, реализованных внутри библиотеки Numpy\n",
    "* 1 вместо n инструкций для интерпретации в случае парсинга цикла"
   ]
  },
  {
   "cell_type": "code",
   "execution_count": null,
   "metadata": {
    "collapsed": true
   },
   "outputs": [],
   "source": [
    "def CalculateFibonacciNumber(n):\n",
    "    a = 0\n",
    "    b = 1\n",
    "    for i in range(n):\n",
    "        a, b = b, a + b\n",
    "    return a"
   ]
  },
  {
   "cell_type": "markdown",
   "metadata": {},
   "source": [
    "$$ \n",
    "    t_{scalar} = (t_{interpret} + t_{execut1}) \\cdot n \\\\\n",
    "    t_{vectorized} = t_{interpret} + t_{execut2} n \\\\\n",
    "    t_{execut1} \\text{- время исполнения инструкции, переведенной в машинный код интерпретатором} \\\\\n",
    "    t_{execut2} \\text{- время исполнения инструкции, переведенной в машинный код компилятором языка С} \\\\\n",
    "$$\n",
    "\n",
    "\n",
    "* векторизованные операции Numpy - высокоуровневая \"обертка\" для реализованных внутри Numpy циклов на С\n",
    "\n",
    "Массив $\\mathbf{v} = \\left( v_0, v_1, ..., v_{n-1} \\right)$ \n",
    "\n",
    "* векторизованная функция: $\\mathbf{f}(\\mathbf{v}) = \\left( f(v_0), f(v_1), ..., f(v_{n-1}) \\right)$\n",
    "* векторизованная арифметическая операция: $\\mathbf{u} \\circ \\mathbf{v} = \\left( u_0 \\circ v_0 , u_1 \\circ v_1, ..., u_{n-1} \\circ v_{n-1} \\right)$\n",
    "\n",
    "Реализации покоординатных операций над массивами в явном виде:"
   ]
  },
  {
   "cell_type": "code",
   "execution_count": null,
   "metadata": {
    "collapsed": false
   },
   "outputs": [],
   "source": [
    "def AddArrays(array1, array2):\n",
    "    n = len(array1)\n",
    "    resultArray = [0. for i in range(n)]\n",
    "    for i in range(n):\n",
    "        resultArray[i] = array1[i] + array2[i]\n",
    "    return resultArray\n",
    "\n",
    "def MultiplyArrays(array1, array2):\n",
    "    n = len(array1)\n",
    "    resultArray = [0. for i in range(n)]\n",
    "    for i in range(n):\n",
    "        resultArray[i] = array1[i] * array2[i]\n",
    "    return resultArray\n",
    "\n",
    "def SpecificFunctionArray(array):\n",
    "    n = len(array)\n",
    "    resultArray = [0. for i in range(n)]\n",
    "    for i in range(n):\n",
    "        resultArray[i] = m.cos(m.sin(array[i]**2.)) / (1. + m.exp(-2.*array[i]))\n",
    "    return resultArray"
   ]
  },
  {
   "cell_type": "code",
   "execution_count": null,
   "metadata": {
    "collapsed": false
   },
   "outputs": [],
   "source": [
    "N = int(1e3)\n",
    "arrayA = [5*i for i in range(N)]\n",
    "arrayB = list(arrayA)\n",
    "\n",
    "print AddArrays(arrayA, arrayB)[1:10], '\\n'\n",
    "print MultiplyArrays(arrayA, arrayB)[1:10], '\\n'\n",
    "print SpecificFunctionArray(arrayB)[1:10], '\\n'"
   ]
  },
  {
   "cell_type": "code",
   "execution_count": null,
   "metadata": {
    "collapsed": false
   },
   "outputs": [],
   "source": [
    "# график времени исполнения\n",
    "lengthsList = [int(1.5**i) for i in range(2, 20)]\n",
    "runtimesList = []\n",
    "\n",
    "for length in lengthsList:\n",
    "    arrayA = [5*i for i in range(int(length))]\n",
    "    arrayB = list(arrayA)\n",
    "    \n",
    "    start = time.clock()\n",
    "    numberOfRuns = 50\n",
    "    for i in range(numberOfRuns):\n",
    "        SpecificFunctionArray(arrayB)\n",
    "    runtimesList.append(float(time.clock() - start)/numberOfRuns)\n",
    "    \n",
    "plt.figure()\n",
    "plt.plot(lengthsList[:], runtimesList[:], 'b-o', linewidth=3, markersize = 7)\n",
    "plt.ylabel('Runtime, s')\n",
    "plt.xlabel('n')\n",
    "plt.grid('on')\n",
    "plt.show()"
   ]
  },
  {
   "cell_type": "code",
   "execution_count": null,
   "metadata": {
    "collapsed": false
   },
   "outputs": [],
   "source": [
    "# то же самое, с использованием векторизации"
   ]
  },
  {
   "cell_type": "code",
   "execution_count": null,
   "metadata": {
    "collapsed": false
   },
   "outputs": [],
   "source": [
    "N = int(1e3)\n",
    "arrayA = np.array([5*i for i in range(N)])\n",
    "arrayB = np.array(arrayA)\n",
    "\n",
    "print arrayA[1:10], '\\n'\n",
    "print (arrayA[:] + arrayB[:])[1:10], '\\n'\n",
    "print (arrayA[:]*arrayB[:])[1:10], '\\n'\n",
    "print (np.cos(np.sin(arrayB[:]**2.)) / (1. + np.exp(-2.*arrayB[:])))[1:10], '\\n'"
   ]
  },
  {
   "cell_type": "code",
   "execution_count": null,
   "metadata": {
    "collapsed": false
   },
   "outputs": [],
   "source": [
    "# график времени исполнения\n",
    "lengthsList = [int(1.5**i) for i in range(2, 30)]\n",
    "runtimesList = []\n",
    "\n",
    "for length in lengthsList:\n",
    "    arrayA, arrayB = np.array([5*i for i in range(int(length))]), np.array(arrayA)\n",
    "    \n",
    "    start = time.clock()\n",
    "    numberOfRuns = 50\n",
    "    for i in range(numberOfRuns):\n",
    "        parrotsArray = np.cos(np.sin(arrayB[:]**2.)) / (1. + np.exp(-2.*arrayB[:]))\n",
    "    runtimesList.append(float(time.clock() - start)/numberOfRuns)\n",
    "    \n",
    "plt.figure()\n",
    "plt.plot(lengthsList[:], runtimesList[:], 'b-o', linewidth=3, markersize = 7)\n",
    "plt.xlabel('n')\n",
    "plt.ylabel('Runtime, s')\n",
    "plt.grid('on')\n",
    "plt.show()"
   ]
  },
  {
   "cell_type": "code",
   "execution_count": null,
   "metadata": {
    "collapsed": true
   },
   "outputs": [],
   "source": [
    "def SpecificFunctionArrayVectorized(array):\n",
    "    return np.cos(np.sin(array[:]**2.)) / (1. + np.exp(-2.*array[:]))\n",
    "\n",
    "\n",
    "def TimeImplementation(function, array, numberOfRuns):\n",
    "    start = time.clock()\n",
    "    for i in range(numberOfRuns):\n",
    "        parrotsArray = function(array)\n",
    "    return float(time.clock() - start)/numberOfRuns"
   ]
  },
  {
   "cell_type": "code",
   "execution_count": null,
   "metadata": {
    "collapsed": false
   },
   "outputs": [],
   "source": [
    "# графики ускорений\n",
    "#lengthsList = [int(1.5**i) for i in range(2, 20)]\n",
    "runtimesScalarList, runtimesVectorizedList = [], []\n",
    "\n",
    "\n",
    "for length in lengthsList:\n",
    "    arrayA, arrayB = np.array([5*i for i in range(int(length))]), np.array(arrayA)\n",
    "    \n",
    "    runtimesScalarList.append(TimeImplementation(SpecificFunctionArray, arrayB, 50))\n",
    "    runtimesVectorizedList.append(\\\n",
    "                                                TimeImplementation(SpecificFunctionArrayVectorized, \\\n",
    "                                                                   arrayB,\n",
    "                                                                   50))  \n",
    "\n",
    "runtimesScalarList = np.array(runtimesScalarList) \n",
    "runtimesVectorizedList = np.asarray(runtimesVectorizedList)\n",
    "\n",
    "plt.figure()\n",
    "plt.title('Comparison')\n",
    "plt.plot(lengthsList[:], runtimesScalarList[:]/runtimesVectorizedList[:], 'r-o', label='Vectorized', linewidth=3, markersize = 7)\n",
    "plt.plot(lengthsList[:], runtimesScalarList[:]/runtimesScalarList[:], 'b-o', label='Scalar', linewidth=3, markersize = 7)\n",
    "plt.ylabel('Speedup')\n",
    "plt.xlabel('n')\n",
    "plt.legend(loc='best')\n",
    "plt.grid('on')\n",
    "plt.show()"
   ]
  },
  {
   "cell_type": "markdown",
   "metadata": {},
   "source": [
    "### Однородное линейное уравнение теплопроводности"
   ]
  },
  {
   "cell_type": "code",
   "execution_count": null,
   "metadata": {
    "collapsed": false
   },
   "outputs": [],
   "source": [
    "xLeft = 0.\n",
    "xRight = 1.\n",
    "kappa = 0.1\n",
    "t = 0.\n",
    "tRun = 0.04\n",
    "\n",
    "def InitialCondition(x):\n",
    "    if x < 0.6 and x > 0.4:\n",
    "        return 1.\n",
    "    else:\n",
    "        return 0.\n",
    "\n",
    "\n",
    "def SetInitialCondition(function, array, numPoints, h):\n",
    "    for i in range(numPoints):\n",
    "        array[i] = function(i * h)\n",
    "\n",
    "def MakeStepScalar(uOld, numPoints, h, dt, kappa, uNew):\n",
    "    courant = kappa * dt / (h * h)\n",
    "    \n",
    "    # явная реализация покоординатных операций с помощью цикла\n",
    "    for i in range(1, numPoints - 1):\n",
    "        uNew[i] = uOld[i] + courant * (uOld[i + 1] - 2 * uOld[i] + uOld[i - 1])\n",
    "    \n",
    "    \n",
    "def MakeStepVectorized(uOld, numPoints, h, dt, kappa, uNew):\n",
    "    courant = kappa * dt / (h * h) \n",
    "    \n",
    "    # неявная реализация поокоординатных операций с помощью векторизации\n",
    "    uNew[1:numPoints-1] = uOld[1:numPoints-1] + courant*(uOld[2:numPoints] - 2*uOld[1:numPoints-1]\\\n",
    "                                                        + uOld[:numPoints-2])\n",
    "\n",
    "# main\n",
    "counter = 0\n",
    "counterBlocks = 0\n",
    "\n",
    "numBlocks = int(1e3)\n",
    "import time\n",
    "\n",
    "start = time.time()\n",
    "numPoints = int(numBlocks + 1)\n",
    "uOld, uNew = np.zeros(numPoints), np.zeros(numPoints)\n",
    "h = float(xRight - xLeft) / float(numBlocks)\n",
    "dt = h**2 / (kappa * 20.)\n",
    "SetInitialCondition(InitialCondition, uOld, numPoints, h)\n",
    "    \n",
    "while t < tRun:\n",
    "    MakeStepScalar(uOld, numPoints, h, dt, kappa, uNew)\n",
    "    #MakeStepVectorized(uOld, numPoints, h, dt, kappa, uNew)\n",
    "    \n",
    "    uOld = uNew\n",
    "    t += dt; counter += 1\n",
    "    if (counter % int(1e4)) == 0:\n",
    "        print 'Step #%d' % counter\n",
    "\n",
    "end = time.time()\n",
    "runtime = (end - start)\n",
    "print 'Calculations took ... %.2e s' % runtime\n",
    "    \n",
    "    \n",
    "xArray = np.linspace(xLeft, xRight, numPoints)\n",
    "plt.figure()\n",
    "plt.title('Numerical solution')\n",
    "plt.plot(xArray, uNew, 'b-o', linewidth=4)\n",
    "plt.xlabel('X')\n",
    "plt.ylabel('Temperature')\n",
    "plt.grid('on')\n",
    "plt.show()"
   ]
  },
  {
   "cell_type": "markdown",
   "metadata": {},
   "source": [
    "### Численное интегрирование"
   ]
  },
  {
   "cell_type": "code",
   "execution_count": null,
   "metadata": {
    "collapsed": true
   },
   "outputs": [],
   "source": [
    "class AbstractIntegral:\n",
    "    \"\"\" Class, performing numerical integration of a given function \"\"\"\n",
    "    \n",
    "    def __init__(self):\n",
    "        self._listOfCoefficients = []\n",
    "        print 'An empty Integral is created.'  \n",
    "    def ChooseFunction(self, function):\n",
    "        self._function = function\n",
    "    def SetLeftBorder(self, leftBorder):\n",
    "        self._leftBorder = leftBorder   \n",
    "    def SetGrid(self, step):\n",
    "        self._step = step\n",
    "    \n",
    "    \n",
    "    def SetMethodCoefficients(self):\n",
    "        raise NotImplementedError\n",
    "          \n",
    "    def __call__(self, x):\n",
    "        \"\"\" Function, performing the numerical integration via a loop \"\"\"\n",
    "        self._gridArray = np.arange(self._leftBorder, x, self._step)\n",
    "        self._gridLength = len(self._gridArray)\n",
    "        \n",
    "        f, left, right, h = self._function, self._leftBorder, \\\n",
    "                            x, self._step\n",
    "        \n",
    "        #self._function = np.vectorize(self._function) # раскомментировать, если функция из модуля math\n",
    "        self.SetMethodCoefficients()\n",
    "        value = 0.\n",
    "        start = time.clock()\n",
    "        # вычисление интеграла\n",
    "        print 'Computations took ...',\n",
    "        value = np.dot(self._listOfCoefficients, self._function(self._gridArray))\n",
    "        end = time.clock() - start\n",
    "        print '%.2e sec' % end\n",
    "        \n",
    "        value *= self._step\n",
    "        return value\n",
    "    \n",
    "    \n",
    "    \n",
    "class TrapeziumMethod(AbstractIntegral):\n",
    "    def SetMethodCoefficients(self):\n",
    "        self._listOfCoefficients = np.ones(self._gridLength)\n",
    "        self._listOfCoefficients[0] *= 0.5\n",
    "        self._listOfCoefficients[-1] *= 0.5"
   ]
  },
  {
   "cell_type": "code",
   "execution_count": null,
   "metadata": {
    "collapsed": false
   },
   "outputs": [],
   "source": [
    "# тестирование\n",
    "listOfAntiderivatives = [TrapeziumMethod()]\n",
    "listOfFunctions = [lambda t: np.exp(-t**2)] # для ускорения: функция должна быть из numpy, не из math\n",
    "\n",
    "xLeft_, xRight_, step = 0., 3., 1e-4\n",
    "for element, function in zip(listOfAntiderivatives, listOfFunctions):\n",
    "    element.ChooseFunction(function)\n",
    "    element.SetGrid(step)\n",
    "    element.SetLeftBorder(xLeft_)\n",
    "    print element(1.)\n",
    "\n",
    "xData = np.arange(xLeft_ + 1e-3, xRight_, 5e-2)\n",
    "\n",
    "for element in listOfAntiderivatives:\n",
    "    yData = [element(x) for x in list(xData)]\n",
    "    plt.figure()\n",
    "    plt.plot(xData, yData, 'b-o', linewidth=4, markersize=5)\n",
    "    plt.xlabel('X')\n",
    "    plt.grid('on')\n",
    "    plt.show()"
   ]
  },
  {
   "cell_type": "markdown",
   "metadata": {},
   "source": [
    "### Метод Якоби решения СЛАУ\n",
    "СЛАУ возникает в результате использования разностного шаблона \"крест\" при дискретизации уравнения Лапласа в квадратной области с граничными условиями Дирихле:"
   ]
  },
  {
   "cell_type": "code",
   "execution_count": null,
   "metadata": {
    "collapsed": false
   },
   "outputs": [],
   "source": [
    "numBlocksX = 100\n",
    "numBlocksY = 100\n",
    "\n",
    "length = 5.\n",
    "height = 5.\n",
    "\n",
    "xArray = np.linspace(0., length, numBlocksX)\n",
    "yArray = np.linspace(0., height, numBlocksY)\n",
    "\n",
    "hx = length / (numBlocksX - 1)\n",
    "hy = height / (numBlocksY - 1)\n",
    "\n",
    "p0 = np.zeros((numBlocksY, numBlocksX))\n",
    "\n",
    "# условия на границах\n",
    "p0[-1,:] = np.sin(1.5 * np.pi * xArray/xArray[-1])\n",
    "p0[:,-1] = np.cos(1.5 * np.pi * yArray/yArray[-1])"
   ]
  },
  {
   "cell_type": "code",
   "execution_count": null,
   "metadata": {
    "collapsed": false
   },
   "outputs": [],
   "source": [
    "def SolveLaplace2D_JacobiScalar(p, numBlocksX, numBlocksY, l2Tolerance): \n",
    "    l2Norm = 1.\n",
    "    pn = np.empty_like(p)\n",
    "    iterations = 0\n",
    "    \n",
    "    start = time.clock()\n",
    "    while l2Norm > l2Tolerance:\n",
    "        pn = p.copy()\n",
    "        \n",
    "        # iterations\n",
    "        for i in range(1, numBlocksX - 1):\n",
    "            for j in range(1, numBlocksY - 1):\n",
    "                p[i, j] = 0.25 * (pn[i, j + 1] + pn[i, j - 1] +\\\n",
    "                                      pn[i + 1, j] + pn[i - 1, j])\n",
    "        \n",
    "        numerator, denumenator = 0., 0.\n",
    "        for i in range(numBlocksX):\n",
    "            for j in range(numBlocksY): \n",
    "                numerator += (p[i, j] - pn[i, j])**2\n",
    "                denumenator += pn[i, j]**2\n",
    "            \n",
    "        l2Norm = m.sqrt(numerator/denumenator)\n",
    "        iterations += 1\n",
    "    \n",
    "    runtime = time.clock() - start\n",
    "    print '%d iterations completed in scalar Jacobi solver; calculations took ... %.2f s' % (iterations, runtime)\n",
    "    return p, runtime"
   ]
  },
  {
   "cell_type": "code",
   "execution_count": null,
   "metadata": {
    "collapsed": false
   },
   "outputs": [],
   "source": [
    "def SolveLaplace2D_JacobiVectorized(p, numBlocksX, numBlocksY, l2Tolerance):\n",
    "    l2Norm = 1\n",
    "    pn = np.empty_like(p)\n",
    "    iterations = 0\n",
    "    \n",
    "    start = time.clock()\n",
    "    while l2Norm > l2Tolerance:\n",
    "        pn = p.copy()\n",
    "        \n",
    "        # iterations\n",
    "        p[1:-1,1:-1] = 0.25 * (pn[1:-1,2:] + pn[1:-1,:-2] +\\\n",
    "                              pn[2:,1:-1] + pn[:-2,1:-1])\n",
    "        \n",
    "        l2Norm = np.sqrt(np.sum((p - pn)**2)/np.sum(pn**2))\n",
    "        iterations += 1\n",
    "    \n",
    "    runtime = time.clock() - start\n",
    "    print '%d iterations completed in vectorized Jacobi solver; calculations took ... %.2f s' % (iterations, runtime)\n",
    "    return p, runtime"
   ]
  },
  {
   "cell_type": "code",
   "execution_count": null,
   "metadata": {
    "collapsed": false
   },
   "outputs": [],
   "source": [
    "tolerance = 1e-3\n",
    "pScalar, runtimeScalar = SolveLaplace2D_JacobiScalar(p0.copy(), numBlocksX, numBlocksY, tolerance)\n",
    "pVectorized, runtimeVectorized = SolveLaplace2D_JacobiVectorized(p0.copy(), numBlocksX, numBlocksY, tolerance)\n",
    "\n",
    "print 'Speedup = %.0f' % (runtimeScalar/runtimeVectorized)"
   ]
  },
  {
   "cell_type": "code",
   "execution_count": null,
   "metadata": {
    "collapsed": false
   },
   "outputs": [],
   "source": [
    "# проверяем корректность численного решения\n",
    "plt.figure(figsize = figsizeConst)\n",
    "plt.title('Pressure')\n",
    "im = plt.imshow(pVectorized, cmap = 'viridis', origin='lower')\n",
    "cs = plt.contour(pVectorized)\n",
    "plt.colorbar(im)\n",
    "plt.show()"
   ]
  },
  {
   "cell_type": "markdown",
   "metadata": {},
   "source": [
    "## Ускорение программ с помощью Numba"
   ]
  },
  {
   "cell_type": "markdown",
   "metadata": {},
   "source": [
    "Простой пример:"
   ]
  },
  {
   "cell_type": "code",
   "execution_count": null,
   "metadata": {
    "collapsed": true
   },
   "outputs": [],
   "source": [
    "def CalculateFibonacciNumber(n):\n",
    "    a = 0\n",
    "    b = 1\n",
    "    for i in range(n):\n",
    "        a, b = b, a + b\n",
    "    return a\n",
    "\n",
    "\n",
    "# добавляем спецификатор\n",
    "@nb.jit()\n",
    "def CalculateFibonacciNumberJITted(n):\n",
    "    a = 0\n",
    "    b = 1\n",
    "    for i in range(n):\n",
    "        a, b = b, a + b\n",
    "    return a"
   ]
  },
  {
   "cell_type": "code",
   "execution_count": null,
   "metadata": {
    "collapsed": false
   },
   "outputs": [],
   "source": [
    "n = int(1e6)\n",
    "start = time.clock()\n",
    "CalculateFibonacciNumber(n)\n",
    "runtimeScalar = (time.clock() - start)\n",
    "print 'Calculations took ... %.2e s' % runtimeScalar"
   ]
  },
  {
   "cell_type": "code",
   "execution_count": null,
   "metadata": {
    "collapsed": false
   },
   "outputs": [],
   "source": [
    "# реальное значение ускорения будет со 2-го запуска ячейки, когда функцию уже не требуется компилировать\n",
    "start = time.clock()\n",
    "CalculateFibonacciNumberJITted(n)\n",
    "runtimeJITted = (time.clock() - start)\n",
    "print 'Calculations took ... %.2e s' % runtimeJITted\n",
    "print 'Speedup = %.0f' % (runtimeScalar/runtimeJITted)"
   ]
  },
  {
   "cell_type": "markdown",
   "metadata": {},
   "source": [
    "Библиотека __Numba__ использует __JIT-компиляцию__ (Just-in-time compilation, компиляция «на лету»): динамическая компиляция (dynamic translation) — технология увеличения производительности программных систем, использующих байт-код, путём компиляции байт-кода в машинный код или в другой формат непосредственно во время работы программы. Таким образом достигается высокая скорость выполнения по сравнению с интерпретируемым байт-кодом [1] (сравнимая с компилируемыми языками) за счёт увеличения потребления памяти (для хранения результатов компиляции) и затрат времени на компиляцию.\n",
    "\n",
    "__Ограничения__ для функций, к которым можно применять JIT-компиляцию:\n",
    "* отсутсвие векторизованных операций Numpy\n",
    "* использование Numpy разрешено только при инициализации массивов\n",
    "* отсутсвие операций с высокоуровневыми структурами данных Python: со списками, кортежами, словарями, ..."
   ]
  },
  {
   "cell_type": "markdown",
   "metadata": {},
   "source": [
    "__Numba__ может ускорять довольно сложные функции, но все же иногда ей это не удается. В этом случае она сгенерирует функцию, ничем не отличающуюся по произодительности от изначальной (без каких либо оповещений). Запуск Numba в nopython-режиме заставит библиотеку выдавать ошибку в случае неудачного исхода JIT-компиляции функции: \"либо ускоренная функция, либо ничего\":"
   ]
  },
  {
   "cell_type": "code",
   "execution_count": null,
   "metadata": {
    "collapsed": false
   },
   "outputs": [],
   "source": [
    "@nb.jit(nopython=True)\n",
    "def CalculateFibonacciNumberJITted(n):\n",
    "    a = 0\n",
    "    b = 1\n",
    "    for i in range(n):\n",
    "        a, b = b, a + b\n",
    "    return a"
   ]
  },
  {
   "cell_type": "markdown",
   "metadata": {},
   "source": [
    "### Работа с массивами\n",
    "Добавляем спецификатор __@jit__ к функциям, в которых реализован скалярный код покоординатных операций над масиивами:"
   ]
  },
  {
   "cell_type": "code",
   "execution_count": null,
   "metadata": {
    "collapsed": false
   },
   "outputs": [],
   "source": [
    "@nb.jit(nopython=True)\n",
    "def AddArraysJIT(array1, array2):\n",
    "    n = len(array1)\n",
    "    resultArray = np.zeros(n)\n",
    "    for i in range(n):\n",
    "        resultArray[i] = array1[i] + array2[i]\n",
    "    return resultArray\n",
    "\n",
    "@nb.jit(nopython=True)\n",
    "def MultiplyArraysJIT(array1, array2):\n",
    "    n = len(array1)\n",
    "    resultArray = np.zeros(n)\n",
    "    for i in range(n):\n",
    "        resultArray[i] = array1[i] * array2[i]\n",
    "    return resultArray\n",
    "\n",
    "@nb.jit(nopython=True)\n",
    "def SpecificFunctionArrayJIT(array):\n",
    "    n = len(array)\n",
    "    resultArray = np.zeros(n)\n",
    "    for i in range(n):\n",
    "        resultArray[i] = m.cos(m.sin(array[i]**2.)) / (1. + m.exp(-2.*array[i]))\n",
    "    return resultArray"
   ]
  },
  {
   "cell_type": "markdown",
   "metadata": {},
   "source": [
    "Ускорение JIT-скомпилированных функций по сравнению со скалярными и векторизованными:"
   ]
  },
  {
   "cell_type": "code",
   "execution_count": null,
   "metadata": {
    "collapsed": false
   },
   "outputs": [],
   "source": [
    "# реальное значение ускорения будет со 2-го запуска ячейки, когда функцию уже не требуется компилировать\n",
    "# сравнение ускорений\n",
    "runtimesScalarList, runtimesVectorizedList, runtimesJittedList = [], [], []\n",
    "\n",
    "\n",
    "for length in lengthsList:\n",
    "    arrayA, arrayB = np.array([5*i for i in range(int(length))]), np.array(arrayA)\n",
    "    \n",
    "    runtimesScalarList.append(TimeImplementation(SpecificFunctionArray, arrayB, 50))\n",
    "    runtimesVectorizedList.append(\\\n",
    "                                                TimeImplementation(SpecificFunctionArrayVectorized, \\\n",
    "                                                                   arrayB,\n",
    "                                                                   50))\n",
    "    runtimesJittedList.append(TimeImplementation(SpecificFunctionArrayJIT, arrayB, 50))\n",
    "\n",
    "runtimesScalarList = np.array(runtimesScalarList) \n",
    "runtimesVectorizedList = np.array(runtimesVectorizedList)\n",
    "runtimesJittedList = np.array(runtimesJittedList)\n",
    "\n",
    "plt.figure()\n",
    "plt.title('Comparison')\n",
    "plt.plot(lengthsList[1:], runtimesScalarList[1:]/runtimesVectorizedList[1:], 'r-o', label='Vectorized', linewidth=3, markersize = 7)\n",
    "plt.plot(lengthsList[1:], runtimesScalarList[1:]/runtimesJittedList[1:], 'g-o', label='JITted', linewidth=3, markersize = 7)\n",
    "plt.plot(lengthsList[1:], runtimesScalarList[1:]/runtimesScalarList[1:], 'b-o', label='Scalar', linewidth=3, markersize = 7)\n",
    "plt.ylabel('Speedup')\n",
    "plt.xlabel('N')\n",
    "plt.legend(loc='best')\n",
    "plt.grid('on')\n",
    "plt.show()"
   ]
  },
  {
   "cell_type": "markdown",
   "metadata": {},
   "source": [
    "### Однородное линейное уравнение теплопроводности"
   ]
  },
  {
   "cell_type": "code",
   "execution_count": null,
   "metadata": {
    "collapsed": false
   },
   "outputs": [],
   "source": [
    "# реальное значение ускорения будет со 2-го запуска ячейки, когда функцию уже не требуется компилировать\n",
    "\n",
    "xLeft = 0.\n",
    "xRight = 1.\n",
    "kappa = 0.1\n",
    "t = 0.\n",
    "tRun = 0.04\n",
    "\n",
    "def InitialCondition(x):\n",
    "    if x < 0.6 and x > 0.4:\n",
    "        return 1.\n",
    "    else:\n",
    "        return 0.\n",
    "\n",
    "\n",
    "def SetInitialCondition(function, array, numPoints, h):\n",
    "    for i in range(numPoints):\n",
    "        array[i] = function(i * h)\n",
    "\n",
    "def MakeStepScalar(uOld, numPoints, h, dt, kappa, uNew):\n",
    "    courant = kappa * dt / (h * h)\n",
    "    for i in range(1, numPoints - 1):\n",
    "        uNew[i] = uOld[i] + courant * (uOld[i + 1] - 2 * uOld[i] + uOld[i - 1])\n",
    "    \n",
    "def MakeStepVectorized(uOld, numPoints, h, dt, kappa, uNew):\n",
    "    courant = kappa * dt / (h * h) \n",
    "    uNew[1:numPoints-1] = uOld[1:numPoints-1] + courant*(uOld[2:numPoints] - 2*uOld[1:numPoints-1]\\\n",
    "                                                        + uOld[:numPoints-2])\n",
    "    \n",
    "@nb.jit(nopython=True) # раскомментировать\n",
    "def MakeStepJIT(uOld, numPoints, h, dt, kappa, uNew):\n",
    "    courant = kappa * dt / (h * h)\n",
    "    for i in range(1, numPoints - 1):\n",
    "        uNew[i] = uOld[i] + courant * (uOld[i + 1] - 2 * uOld[i] + uOld[i - 1])\n",
    "\n",
    "# main\n",
    "counter = 0\n",
    "counterBlocks = 0\n",
    "\n",
    "numBlocks = int(1e3)\n",
    "import time\n",
    "\n",
    "start = time.time()\n",
    "numPoints = int(numBlocks + 1)\n",
    "uOld, uNew = np.zeros(numPoints), np.zeros(numPoints)\n",
    "h = float(xRight - xLeft) / float(numBlocks)\n",
    "dt = h**2 / (kappa * 20.)\n",
    "SetInitialCondition(InitialCondition, uOld, numPoints, h)\n",
    "    \n",
    "while t < tRun:\n",
    "    MakeStepJIT(uOld, numPoints, h, dt, kappa, uNew)\n",
    "    uOld = uNew\n",
    "    t += dt; counter += 1\n",
    "    if (counter % int(1e4)) == 0:\n",
    "        print 'Step #%d' % counter\n",
    "\n",
    "end = time.time()\n",
    "runtime = (end - start)\n",
    "print 'Calculations took ... %.2e s' % runtime\n",
    "    \n",
    "    \n",
    "xArray = np.linspace(xLeft, xRight, numPoints)\n",
    "plt.figure()\n",
    "plt.title('Numerical solution')\n",
    "plt.plot(xArray, uNew, 'b-o', linewidth=4)\n",
    "plt.xlabel('X')\n",
    "plt.ylabel('Temperature')\n",
    "plt.grid('on')\n",
    "plt.show()"
   ]
  },
  {
   "cell_type": "markdown",
   "metadata": {},
   "source": [
    "### Метод Якоби"
   ]
  },
  {
   "cell_type": "code",
   "execution_count": null,
   "metadata": {
    "collapsed": false
   },
   "outputs": [],
   "source": [
    "# реальное значение ускорения будет со 2-го запуска ячейки, когда функцию уже не требуется компилировать\n",
    "\n",
    "@nb.jit(nopython=True)\n",
    "def SolveLaplace2D_JacobiJITted(p, pn, l2Tolerance):  # для получения вразумительного ускорения\n",
    "                                                      # пришлось изменить список аргументов \n",
    "                                                      # и тело функции. \n",
    "                                                      # cм. подробности в руководстве к Numba \n",
    "    l2Norm = 1.\n",
    "    numBlocksX, numBlocksY = p.shape\n",
    "    iterations = 0\n",
    "    \n",
    "    #start = time.clock()\n",
    "    while l2Norm > l2Tolerance:\n",
    "        for i in range(1, numBlocksX - 1):\n",
    "            for j in range(1, numBlocksY - 1):\n",
    "                pn[i, j] = p[i, j]\n",
    "        \n",
    "        for i in range(1, numBlocksX - 1):\n",
    "            for j in range(1, numBlocksY - 1):\n",
    "                p[i, j] = 0.25 * (pn[i, j + 1] + pn[i, j - 1] +\\\n",
    "                                      pn[i + 1, j] + pn[i - 1, j])\n",
    "        \n",
    "        numerator, denumenator = 0., 0.\n",
    "        for i in range(numBlocksX):\n",
    "            for j in range(numBlocksY): \n",
    "                numerator += (p[i, j] - pn[i, j])**2\n",
    "                denumenator += pn[i, j]**2\n",
    "            \n",
    "        l2Norm = np.sqrt(numerator/denumenator)\n",
    "        iterations += 1\n",
    "    \n",
    "    #runtime = time.clock() - start\n",
    "    #print '%d iterations completed; calculations took ... %.2f s' % (iterations, runtime)\n",
    "    return p, iterations"
   ]
  },
  {
   "cell_type": "code",
   "execution_count": null,
   "metadata": {
    "collapsed": false
   },
   "outputs": [],
   "source": [
    "tolerance = 1e-3\n",
    "\n",
    "start = time.clock()\n",
    "pJITted, iterationsJITted = SolveLaplace2D_JacobiJITted(p0.copy(), p0.copy(), tolerance)\n",
    "runtimeJITted = time.clock() - start\n",
    "print '%d iterations completed in JITted Jacobi solver; calculations took ... %.2f s' % (iterationsJITted, runtimeJITted)\n",
    "\n",
    "pVectorized, runtimeVectorized = SolveLaplace2D_JacobiVectorized(p0.copy(), numBlocksX, numBlocksY, tolerance)\n",
    "pScalar, runtimeScalar = SolveLaplace2D_JacobiScalar(p0.copy(), numBlocksX, numBlocksY, tolerance)\n",
    "\n",
    "\n",
    "print 'Speedup: JITted = %.0f; vectorized = %.0f;' % ((runtimeScalar/runtimeJITted),\\\n",
    "                                                      (runtimeScalar/runtimeVectorized))"
   ]
  },
  {
   "cell_type": "code",
   "execution_count": null,
   "metadata": {
    "collapsed": false
   },
   "outputs": [],
   "source": [
    "# проверяем корректность численного решения\n",
    "plt.figure(figsize = figsizeConst)\n",
    "plt.title('Pressure field')\n",
    "im = plt.imshow(pJITted, cmap = 'viridis', origin='lower')\n",
    "cs = plt.contour(pJITted)\n",
    "plt.colorbar(im)\n",
    "plt.show()"
   ]
  },
  {
   "cell_type": "markdown",
   "metadata": {},
   "source": [
    "### Поддержка классов: \"Work in progress\" (с) Сontinuum Analytics"
   ]
  },
  {
   "cell_type": "code",
   "execution_count": null,
   "metadata": {
    "collapsed": true
   },
   "outputs": [],
   "source": [
    "real = nb.float32 # псевдоним для типа данных Numba\n",
    "\n",
    "spec = [\n",
    "    ('_x', real),      # a simple scalar field\n",
    "    ('_y', real), \n",
    "    ('_length', real), # an array field\n",
    "]\n",
    "\n",
    "\n",
    "@nb.jitclass(spec)\n",
    "class Vector(object):\n",
    "    def __init__(self, x, y):\n",
    "        self._x = x\n",
    "        self._y = y\n",
    "\n",
    "    def CalculateLength(self):\n",
    "        self._length = np.sqrt(self._x**2 + self._y**2)\n",
    "        return self._length"
   ]
  },
  {
   "cell_type": "code",
   "execution_count": null,
   "metadata": {
    "collapsed": false
   },
   "outputs": [],
   "source": [
    "vectos = Vector(5., 10.)\n",
    "vectos.CalculateLength()"
   ]
  },
  {
   "cell_type": "markdown",
   "metadata": {
    "collapsed": true
   },
   "source": [
    "### Принципы ускорения программ на Python\n",
    "* выделить самые ресурсоемкие участки кода (циклы по точкам расчетной сетки)\n",
    "* обернуть эти участки в функции\n",
    "* внутри функций ликвидировать операции со сложными структурами данных\n",
    "* задействовать средства ускорения\n",
    "\n",
    "$$\n",
    "    \\dots \\dots \\dots \\dots\n",
    "$$"
   ]
  },
  {
   "cell_type": "markdown",
   "metadata": {},
   "source": [
    "Также: с помощью Numba можно программировать под __GPU [http://numba.pydata.org/numbadoc/dev/cuda/examples.html]:__"
   ]
  },
  {
   "cell_type": "code",
   "execution_count": null,
   "metadata": {
    "collapsed": false
   },
   "outputs": [],
   "source": [
    "# чтобы код стал рабочим требуется корректная установка библиотек для работы с Nvidia GPU\n",
    "from numba import cuda, float32\n",
    "\n",
    "# Controls threads per block and shared memory usage.\n",
    "# The computation will be done on blocks of TPBxTPB elements.\n",
    "TPB = 16\n",
    "\n",
    "@cuda.jit\n",
    "def fast_matmul(A, B, C):\n",
    "    # Define an array in the shared memory\n",
    "    # The size and type of the arrays must be known at compile time\n",
    "    sA = cuda.shared.array(shape=(TPB, TPB), dtype=float32)\n",
    "    sB = cuda.shared.array(shape=(TPB, TPB), dtype=float32)\n",
    "\n",
    "    x, y = cuda.grid(2)\n",
    "\n",
    "    tx = cuda.threadIdx.x\n",
    "    ty = cuda.threadIdx.y\n",
    "    bpg = cuda.gridDim.x    # blocks per grid\n",
    "\n",
    "    if x >= C.shape[0] and y >= C.shape[1]:\n",
    "        # Quit if (x, y) is outside of valid C boundary\n",
    "        return\n",
    "\n",
    "    # Each thread computes one element in the result matrix.\n",
    "    # The dot product is chunked into dot products of TPB-long vectors.\n",
    "    tmp = 0.\n",
    "    for i in range(bpg):\n",
    "        # Preload data into shared memory\n",
    "        sA[tx, ty] = A[x, ty + i * TPB]\n",
    "        sB[tx, ty] = B[tx + i * TPB, y]\n",
    "\n",
    "        # Wait until all threads finish preloading\n",
    "        cuda.syncthreads()\n",
    "\n",
    "        # Computes partial product on the shared memory\n",
    "        for j in range(TPB):\n",
    "            tmp += sA[tx, j] * sB[j, ty]\n",
    "\n",
    "        # Wait until all threads finish computing\n",
    "        cuda.syncthreads()\n",
    "\n",
    "    C[x, y] = tmp"
   ]
  },
  {
   "cell_type": "markdown",
   "metadata": {
    "collapsed": true
   },
   "source": [
    "## Вопросы?"
   ]
  },
  {
   "cell_type": "markdown",
   "metadata": {},
   "source": [
    "### При подготовке материалов курса использовалась следующая литература:\n",
    "1. __H.P. Langtangen.__ A primer on scientific programming with Python.\n",
    "2. __Шамин Р.В.__ Современные численные методы в объектно-ориентированном изложении на C#."
   ]
  },
  {
   "cell_type": "markdown",
   "metadata": {},
   "source": [
    "## Спасибо за внимание в течение семестра."
   ]
  }
 ],
 "metadata": {
  "anaconda-cloud": {},
  "kernelspec": {
   "display_name": "Python [default]",
   "language": "python",
   "name": "python2"
  },
  "language_info": {
   "codemirror_mode": {
    "name": "ipython",
    "version": 2
   },
   "file_extension": ".py",
   "mimetype": "text/x-python",
   "name": "python",
   "nbconvert_exporter": "python",
   "pygments_lexer": "ipython2",
   "version": "2.7.12"
  }
 },
 "nbformat": 4,
 "nbformat_minor": 1
}
